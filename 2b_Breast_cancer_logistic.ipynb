{
  "nbformat": 4,
  "nbformat_minor": 0,
  "metadata": {
    "kernelspec": {
      "name": "python3",
      "display_name": "Python 3"
    },
    "language_info": {
      "codemirror_mode": {
        "name": "ipython",
        "version": 3
      },
      "file_extension": ".py",
      "mimetype": "text/x-python",
      "name": "python",
      "nbconvert_exporter": "python",
      "pygments_lexer": "ipython3",
      "version": "3.7.1"
    },
    "colab": {
      "name": "2b.Breast cancer_logistic.ipynb",
      "version": "0.3.2",
      "provenance": []
    },
    "accelerator": "GPU"
  },
  "cells": [
    {
      "cell_type": "code",
      "metadata": {
        "id": "PSZl2DaAMtnO",
        "colab_type": "code",
        "colab": {
          "base_uri": "https://localhost:8080/",
          "height": 215
        },
        "outputId": "fdf1be2a-b7f8-4646-bee8-f06495dd594f"
      },
      "source": [
        "from google.colab import drive\n",
        "drive.mount('/content/drive')\n",
        "import numpy as np\n",
        "import random as r\n",
        "from timeit import default_timer as timer\n",
        "import pandas as pd\n",
        "data = pd.read_csv('http://archive.ics.uci.edu/ml/machine-learning-databases/breast-cancer-wisconsin/breast-cancer-wisconsin.data',delimiter=\",\", header=None)\n",
        "data = data.copy()\n",
        "data.columns = ['ID', ' radius','texture', 'perimeter','area ','smoothness','compactness','concavity','concave points','symmetry ','fractal dimension']\n",
        "data.head() # Preview Data"
      ],
      "execution_count": 7,
      "outputs": [
        {
          "output_type": "stream",
          "text": [
            "Drive already mounted at /content/drive; to attempt to forcibly remount, call drive.mount(\"/content/drive\", force_remount=True).\n"
          ],
          "name": "stdout"
        },
        {
          "output_type": "execute_result",
          "data": {
            "text/html": [
              "<div>\n",
              "<style scoped>\n",
              "    .dataframe tbody tr th:only-of-type {\n",
              "        vertical-align: middle;\n",
              "    }\n",
              "\n",
              "    .dataframe tbody tr th {\n",
              "        vertical-align: top;\n",
              "    }\n",
              "\n",
              "    .dataframe thead th {\n",
              "        text-align: right;\n",
              "    }\n",
              "</style>\n",
              "<table border=\"1\" class=\"dataframe\">\n",
              "  <thead>\n",
              "    <tr style=\"text-align: right;\">\n",
              "      <th></th>\n",
              "      <th>ID</th>\n",
              "      <th>radius</th>\n",
              "      <th>texture</th>\n",
              "      <th>perimeter</th>\n",
              "      <th>area</th>\n",
              "      <th>smoothness</th>\n",
              "      <th>compactness</th>\n",
              "      <th>concavity</th>\n",
              "      <th>concave points</th>\n",
              "      <th>symmetry</th>\n",
              "      <th>fractal dimension</th>\n",
              "    </tr>\n",
              "  </thead>\n",
              "  <tbody>\n",
              "    <tr>\n",
              "      <th>0</th>\n",
              "      <td>1000025</td>\n",
              "      <td>5</td>\n",
              "      <td>1</td>\n",
              "      <td>1</td>\n",
              "      <td>1</td>\n",
              "      <td>2</td>\n",
              "      <td>1</td>\n",
              "      <td>3</td>\n",
              "      <td>1</td>\n",
              "      <td>1</td>\n",
              "      <td>2</td>\n",
              "    </tr>\n",
              "    <tr>\n",
              "      <th>1</th>\n",
              "      <td>1002945</td>\n",
              "      <td>5</td>\n",
              "      <td>4</td>\n",
              "      <td>4</td>\n",
              "      <td>5</td>\n",
              "      <td>7</td>\n",
              "      <td>10</td>\n",
              "      <td>3</td>\n",
              "      <td>2</td>\n",
              "      <td>1</td>\n",
              "      <td>2</td>\n",
              "    </tr>\n",
              "    <tr>\n",
              "      <th>2</th>\n",
              "      <td>1015425</td>\n",
              "      <td>3</td>\n",
              "      <td>1</td>\n",
              "      <td>1</td>\n",
              "      <td>1</td>\n",
              "      <td>2</td>\n",
              "      <td>2</td>\n",
              "      <td>3</td>\n",
              "      <td>1</td>\n",
              "      <td>1</td>\n",
              "      <td>2</td>\n",
              "    </tr>\n",
              "    <tr>\n",
              "      <th>3</th>\n",
              "      <td>1016277</td>\n",
              "      <td>6</td>\n",
              "      <td>8</td>\n",
              "      <td>8</td>\n",
              "      <td>1</td>\n",
              "      <td>3</td>\n",
              "      <td>4</td>\n",
              "      <td>3</td>\n",
              "      <td>7</td>\n",
              "      <td>1</td>\n",
              "      <td>2</td>\n",
              "    </tr>\n",
              "    <tr>\n",
              "      <th>4</th>\n",
              "      <td>1017023</td>\n",
              "      <td>4</td>\n",
              "      <td>1</td>\n",
              "      <td>1</td>\n",
              "      <td>3</td>\n",
              "      <td>2</td>\n",
              "      <td>1</td>\n",
              "      <td>3</td>\n",
              "      <td>1</td>\n",
              "      <td>1</td>\n",
              "      <td>2</td>\n",
              "    </tr>\n",
              "  </tbody>\n",
              "</table>\n",
              "</div>"
            ],
            "text/plain": [
              "        ID   radius  texture  ...  concave points  symmetry   fractal dimension\n",
              "0  1000025        5        1  ...               1          1                  2\n",
              "1  1002945        5        4  ...               2          1                  2\n",
              "2  1015425        3        1  ...               1          1                  2\n",
              "3  1016277        6        8  ...               7          1                  2\n",
              "4  1017023        4        1  ...               1          1                  2\n",
              "\n",
              "[5 rows x 11 columns]"
            ]
          },
          "metadata": {
            "tags": []
          },
          "execution_count": 7
        }
      ]
    },
    {
      "cell_type": "markdown",
      "metadata": {
        "id": "dCZXMw3eMzrW",
        "colab_type": "text"
      },
      "source": [
        "## Model training"
      ]
    },
    {
      "cell_type": "code",
      "metadata": {
        "id": "GY-sSVPSMtnR",
        "colab_type": "code",
        "colab": {
          "base_uri": "https://localhost:8080/",
          "height": 301
        },
        "outputId": "c86f0850-8280-4148-b401-03d4b842b5d2"
      },
      "source": [
        "data.info()"
      ],
      "execution_count": 8,
      "outputs": [
        {
          "output_type": "stream",
          "text": [
            "<class 'pandas.core.frame.DataFrame'>\n",
            "RangeIndex: 699 entries, 0 to 698\n",
            "Data columns (total 11 columns):\n",
            "ID                   699 non-null int64\n",
            " radius              699 non-null int64\n",
            "texture              699 non-null int64\n",
            "perimeter            699 non-null int64\n",
            "area                 699 non-null int64\n",
            "smoothness           699 non-null int64\n",
            "compactness          699 non-null object\n",
            "concavity            699 non-null int64\n",
            "concave points       699 non-null int64\n",
            "symmetry             699 non-null int64\n",
            "fractal dimension    699 non-null int64\n",
            "dtypes: int64(10), object(1)\n",
            "memory usage: 60.1+ KB\n"
          ],
          "name": "stdout"
        }
      ]
    },
    {
      "cell_type": "code",
      "metadata": {
        "scrolled": true,
        "id": "gn9rtA1dMtnT",
        "colab_type": "code",
        "colab": {}
      },
      "source": [
        "cancer = '/content/drive/My Drive/Colab Notebooks/nt_toolbox/data/breast-cancer-wisconsin.dat'\n",
        "data=np.loadtxt(cancer, delimiter=',', unpack=True)"
      ],
      "execution_count": 0,
      "outputs": []
    },
    {
      "cell_type": "markdown",
      "metadata": {
        "id": "0TxFkIjXNCyT",
        "colab_type": "text"
      },
      "source": [
        "### Subgradient descent method"
      ]
    },
    {
      "cell_type": "code",
      "metadata": {
        "id": "Yq5HftsNMtnV",
        "colab_type": "code",
        "colab": {}
      },
      "source": [
        "#Converting the data to X and Y\n",
        "A=np.transpose(data[1:-1])[0:500]\n",
        "(n,m)=A.shape\n",
        "Y=np.transpose(data[-1][0:500]-3*np.ones(n))\n",
        "T=[[0 for x in range(m+1)] for y in range(n)]\n",
        "X=np.array(T)\n",
        "for i in range(n):\n",
        "    for j in range(m):\n",
        "        X[i][j]=A[i][j]\n",
        "for i in range(n):\n",
        "    X[i][m]=1"
      ],
      "execution_count": 0,
      "outputs": []
    },
    {
      "cell_type": "code",
      "metadata": {
        "id": "sgrc2TpfMtnX",
        "colab_type": "code",
        "colab": {}
      },
      "source": [
        "def subdiff(w,matrix,col):\n",
        "    (n,m)= matrix.shape\n",
        "    u=[1 for i in range (m)]\n",
        "    v=0.0000001*w\n",
        "    for i in range(n):\n",
        "        v+= -1/n*col[i]*np.transpose(matrix[i][:])/(1+np.exp(col[i]*np.matmul(np.transpose(w),matrix[i][:])))\n",
        "    return v"
      ],
      "execution_count": 0,
      "outputs": []
    },
    {
      "cell_type": "code",
      "metadata": {
        "id": "qRJ_6K5FMtnZ",
        "colab_type": "code",
        "colab": {}
      },
      "source": [
        "def fvalue(matrix,col,w):\n",
        "    (n,m)=matrix.shape\n",
        "    v=0.0000001/2*np.linalg.norm(w,ord=2)**2\n",
        "    for i in range(n):\n",
        "        v += 1/n*np.log(1+np.exp(-col[i]*np.matmul(np.transpose(w),matrix[i][:])))\n",
        "    return v"
      ],
      "execution_count": 0,
      "outputs": []
    },
    {
      "cell_type": "code",
      "metadata": {
        "id": "gogeYx1nMtnb",
        "colab_type": "code",
        "colab": {}
      },
      "source": [
        "## Subgradient descent method\n",
        "def regress(matrix,col):\n",
        "    (n,m)= matrix.shape\n",
        "    w = np.ones(m)\n",
        "    fbest=100*np.ones(10001)\n",
        "    value=np.ones(10000)\n",
        "    for i in range(10000):\n",
        "        v=subdiff(w,matrix,col) #choose a subgradient\n",
        "        w += -1/np.sqrt(i+1)*v# x^{k+1}=x^k-f(x^k)/(norm(v)^2)*v\n",
        "        value[i]=fvalue(X,Y,w) #compute f(x^{k+1})\n",
        "        if value[i]<fbest[i]:#store fbest\n",
        "            fbest[i+1]=value[i]\n",
        "        else:\n",
        "            fbest[i+1]=fbest[i]\n",
        "    return (w, value, fbest)\n"
      ],
      "execution_count": 0,
      "outputs": []
    },
    {
      "cell_type": "code",
      "metadata": {
        "id": "mwFU_B-eMtnd",
        "colab_type": "code",
        "colab": {
          "base_uri": "https://localhost:8080/",
          "height": 636
        },
        "outputId": "ec538624-138e-44fa-b017-13a5172976b5"
      },
      "source": [
        "start = timer()\n",
        "(gdm,value, fbest)=regress(X,Y)\n",
        "end = timer()\n",
        "print('time=',end - start)\n",
        "print('value=',value)\n",
        "print('fbest=',fbest)\n",
        "import matplotlib.pyplot as plt\n",
        "plt.plot(np.log(value))\n",
        "plt.xlabel('iteration ith')\n",
        "plt.ylabel('log(f(x_i))')\n",
        "plt.show()\n",
        "plt.plot(np.log(fbest))\n",
        "plt.xlabel('iteration ith')\n",
        "plt.ylabel('log(fbest_i)')\n",
        "plt.show()"
      ],
      "execution_count": 14,
      "outputs": [
        {
          "output_type": "stream",
          "text": [
            "time= 85.42432296100014\n",
            "value= [ 1.35381167 10.33982533  4.07976362 ...  0.11076822  0.11076715\n",
            "  0.11076608]\n",
            "fbest= [100.           1.35381167   1.35381167 ...   0.11076822   0.11076715\n",
            "   0.11076608]\n"
          ],
          "name": "stdout"
        },
        {
          "output_type": "display_data",
          "data": {
            "image/png": "[encoded data removed]",
            "text/plain": [
              "<Figure size 432x288 with 1 Axes>"
            ]
          },
          "metadata": {
            "tags": []
          }
        },
        {
          "output_type": "display_data",
          "data": {
            "image/png": "[encoded data removed]",
            "text/plain": [
              "<Figure size 432x288 with 1 Axes>"
            ]
          },
          "metadata": {
            "tags": []
          }
        }
      ]
    },
    {
      "cell_type": "markdown",
      "metadata": {
        "id": "hnhMUrugNIVp",
        "colab_type": "text"
      },
      "source": [
        "### Stochastic subgradient descent method"
      ]
    },
    {
      "cell_type": "code",
      "metadata": {
        "id": "RQnXgwvQMtng",
        "colab_type": "code",
        "colab": {}
      },
      "source": [
        "def subdiffsto(w,matrix,col):\n",
        "    (n,m)= X.shape\n",
        "    v=0.0000001*w-col*np.transpose(matrix)/(1+np.exp(col*np.matmul(np.transpose(w),matrix)))\n",
        "    return v"
      ],
      "execution_count": 0,
      "outputs": []
    },
    {
      "cell_type": "code",
      "metadata": {
        "id": "KtKklItBMtni",
        "colab_type": "code",
        "colab": {}
      },
      "source": [
        "##Stochastic subgradient descent method\n",
        "def storegress(matrix,col):\n",
        "    (n,m)= matrix.shape\n",
        "    w = np.ones(m)\n",
        "    fbest=100*np.ones(10001)\n",
        "    a=np.ones(m)\n",
        "    value=np.ones(10000)\n",
        "    for i in range(10000):\n",
        "        j=r.randint(0,n-1) #choose randomly j in [0,n-1]\n",
        "        v=subdiffsto(w,matrix[j][:],col[j]) #choose a subgradient of |a_j'x-b_j|\n",
        "        w += -1/np.sqrt(i+1)*v #x^{k+1}=x^k-1/(norm(v)*sqrt(i+1))*v\n",
        "        value[i]=fvalue(X,Y,w) #compute f(x^{k+1})\n",
        "        if value[i]<fbest[i]:#store fbest\n",
        "            fbest[i+1]=value[i]\n",
        "            a+=-a+w\n",
        "        else:\n",
        "            fbest[i+1]=fbest[i]\n",
        "    return (a, w, value, fbest)\n"
      ],
      "execution_count": 0,
      "outputs": []
    },
    {
      "cell_type": "code",
      "metadata": {
        "id": "NGqW5JrhMtnk",
        "colab_type": "code",
        "colab": {
          "base_uri": "https://localhost:8080/",
          "height": 636
        },
        "outputId": "72606ee5-acb7-43c8-df5d-3651d67b39ad"
      },
      "source": [
        "start = timer()\n",
        "(wstobest,stogdm,value, fbest)=storegress(X,Y)\n",
        "end = timer()\n",
        "print('time=',end - start)\n",
        "print('value=',value)\n",
        "print('fbest=',fbest)\n",
        "import matplotlib.pyplot as plt\n",
        "plt.plot(np.log(value))\n",
        "plt.xlabel('iteration ith')\n",
        "plt.ylabel('log(f(x_i))')\n",
        "plt.show()\n",
        "plt.plot(np.log(fbest))\n",
        "plt.xlabel('iteration ith')\n",
        "plt.ylabel('log(fbest_i)')\n",
        "plt.show()"
      ],
      "execution_count": 17,
      "outputs": [
        {
          "output_type": "stream",
          "text": [
            "time= 32.54134899099995\n",
            "value= [ 6.58425347 42.18528489 42.18528245 ...  0.10764124  0.10723756\n",
            "  0.10722439]\n",
            "fbest= [100.           6.58425347   6.58425347 ...   0.10520575   0.10520575\n",
            "   0.10520575]\n"
          ],
          "name": "stdout"
        },
        {
          "output_type": "display_data",
          "data": {
            "image/png": "[encoded data removed]",
            "text/plain": [
              "<Figure size 432x288 with 1 Axes>"
            ]
          },
          "metadata": {
            "tags": []
          }
        },
        {
          "output_type": "display_data",
          "data": {
            "image/png": "[encoded data removed]",
            "text/plain": [
              "<Figure size 432x288 with 1 Axes>"
            ]
          },
          "metadata": {
            "tags": []
          }
        }
      ]
    },
    {
      "cell_type": "markdown",
      "metadata": {
        "id": "V2QaZH_cNmxw",
        "colab_type": "text"
      },
      "source": [
        "## Model testing"
      ]
    },
    {
      "cell_type": "code",
      "metadata": {
        "id": "BDw3aErYMtnm",
        "colab_type": "code",
        "colab": {
          "base_uri": "https://localhost:8080/",
          "height": 34
        },
        "outputId": "50b6bef6-e55a-4252-dee7-25d3fbddcd4a"
      },
      "source": [
        "B=np.transpose(data[1:-1])[500:-1]\n",
        "(n,m)=B.shape\n",
        "print(B.shape)\n",
        "C=np.transpose(data[-1])[500:-1]\n",
        "Test=[[0 for x in range(m+1)] for y in range(n)]\n",
        "Xtest=np.array(Test)\n",
        "for i in range(n):\n",
        "    for j in range(m):\n",
        "        Xtest[i][j]=B[i][j]\n",
        "for i in range(n):\n",
        "    Xtest[i][m]=1\n",
        "#prettyP(Xtest)"
      ],
      "execution_count": 18,
      "outputs": [
        {
          "output_type": "stream",
          "text": [
            "(182, 9)\n"
          ],
          "name": "stdout"
        }
      ]
    },
    {
      "cell_type": "code",
      "metadata": {
        "id": "4TnzVL8WMtno",
        "colab_type": "code",
        "colab": {
          "base_uri": "https://localhost:8080/",
          "height": 336
        },
        "outputId": "f1ace8fa-0cc0-4149-bc62-53e0c82b64e7"
      },
      "source": [
        "y1=np.matmul(Xtest,gdm)\n",
        "y2=np.matmul(Xtest,wstobest)\n",
        "for i in range(n):\n",
        "    if y1[i]>0:\n",
        "        y1[i]=4\n",
        "    else:\n",
        "        y1[i]=2\n",
        "for i in range(n):\n",
        "    if y2[i]>0:\n",
        "        y2[i]=4\n",
        "    else:\n",
        "        y2[i]=2\n",
        "print(y1)\n",
        "print(y2)\n",
        "count1=0\n",
        "for i in range(n):\n",
        "    if y1[i]==C[i]:\n",
        "        count1+=1\n",
        "eff1=count1/n\n",
        "count2=0\n",
        "for i in range(n):\n",
        "    if y2[i]==C[i]:\n",
        "        count2+=1\n",
        "eff2=count2/n\n",
        "print('efficientcy1=',eff1)\n",
        "print('efficientcy2=',eff2)"
      ],
      "execution_count": 19,
      "outputs": [
        {
          "output_type": "stream",
          "text": [
            "[4. 2. 2. 2. 4. 2. 2. 4. 4. 2. 2. 2. 2. 2. 2. 4. 2. 2. 2. 2. 2. 2. 2. 2.\n",
            " 2. 2. 2. 2. 2. 2. 2. 4. 2. 2. 4. 2. 2. 2. 2. 2. 2. 2. 2. 2. 2. 2. 2. 2.\n",
            " 2. 2. 4. 2. 2. 4. 4. 4. 4. 2. 2. 4. 2. 2. 2. 2. 2. 2. 4. 4. 2. 2. 2. 4.\n",
            " 2. 4. 2. 4. 4. 4. 2. 4. 2. 2. 2. 2. 2. 2. 2. 2. 4. 4. 4. 2. 2. 4. 2. 4.\n",
            " 4. 4. 2. 2. 2. 2. 2. 2. 2. 2. 2. 2. 2. 2. 4. 2. 2. 2. 2. 2. 2. 4. 2. 2.\n",
            " 4. 2. 2. 2. 2. 2. 2. 2. 2. 2. 2. 2. 4. 2. 2. 2. 2. 2. 2. 2. 2. 2. 4. 2.\n",
            " 2. 2. 2. 2. 2. 2. 2. 2. 4. 4. 4. 2. 2. 2. 2. 2. 2. 2. 2. 2. 4. 4. 2. 2.\n",
            " 2. 2. 2. 2. 2. 2. 2. 4. 2. 2. 2. 2. 4. 4.]\n",
            "[4. 2. 2. 2. 4. 2. 2. 4. 4. 2. 2. 2. 2. 2. 2. 4. 2. 2. 2. 2. 2. 2. 2. 2.\n",
            " 2. 2. 2. 2. 2. 2. 2. 4. 2. 2. 4. 2. 2. 2. 2. 2. 2. 2. 2. 2. 2. 2. 2. 2.\n",
            " 2. 2. 4. 2. 2. 4. 4. 4. 4. 2. 2. 4. 2. 2. 2. 2. 2. 2. 4. 4. 2. 2. 2. 4.\n",
            " 2. 4. 2. 4. 4. 4. 2. 4. 2. 2. 2. 2. 2. 2. 2. 2. 4. 4. 4. 2. 2. 4. 2. 4.\n",
            " 4. 4. 2. 2. 2. 2. 2. 2. 2. 2. 2. 2. 2. 2. 4. 2. 2. 2. 2. 2. 2. 4. 2. 2.\n",
            " 4. 2. 2. 2. 2. 2. 2. 2. 2. 2. 2. 2. 4. 2. 2. 2. 2. 2. 2. 2. 2. 2. 4. 2.\n",
            " 2. 2. 2. 2. 2. 2. 2. 2. 4. 4. 4. 2. 2. 2. 2. 2. 2. 2. 2. 2. 4. 4. 2. 2.\n",
            " 2. 2. 2. 2. 2. 2. 2. 4. 2. 2. 2. 2. 4. 4.]\n",
            "efficientcy1= 1.0\n",
            "efficientcy2= 1.0\n"
          ],
          "name": "stdout"
        }
      ]
    },
    {
      "cell_type": "markdown",
      "metadata": {
        "collapsed": true,
        "id": "PF9eju9ZMtnp",
        "colab_type": "text"
      },
      "source": [
        "The efficientcy in all cases are high for this problem. The logistic regression with gradient descent method gives 100% accuracy."
      ]
    },
    {
      "cell_type": "code",
      "metadata": {
        "id": "kA_3e7R3Mtnq",
        "colab_type": "code",
        "colab": {}
      },
      "source": [
        ""
      ],
      "execution_count": 0,
      "outputs": []
    }
  ]
}