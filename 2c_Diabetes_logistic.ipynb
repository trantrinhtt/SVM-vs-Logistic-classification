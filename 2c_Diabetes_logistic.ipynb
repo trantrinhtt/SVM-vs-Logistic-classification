{
  "nbformat": 4,
  "nbformat_minor": 0,
  "metadata": {
    "kernelspec": {
      "name": "python3",
      "display_name": "Python 3"
    },
    "language_info": {
      "codemirror_mode": {
        "name": "ipython",
        "version": 3
      },
      "file_extension": ".py",
      "mimetype": "text/x-python",
      "name": "python",
      "nbconvert_exporter": "python",
      "pygments_lexer": "ipython3",
      "version": "3.7.1"
    },
    "colab": {
      "name": "2c_Diabetes_logistic.ipynb",
      "version": "0.3.2",
      "provenance": [],
      "collapsed_sections": []
    },
    "accelerator": "TPU"
  },
  "cells": [
    {
      "cell_type": "code",
      "metadata": {
        "id": "LxnD0eMuC4I5",
        "colab_type": "code",
        "outputId": "6bcd3df4-deda-45ce-bccd-e6e3185b6b2f",
        "colab": {
          "base_uri": "https://localhost:8080/",
          "height": 125
        }
      },
      "source": [
        "from google.colab import drive\n",
        "drive.mount('/content/drive')\n",
        "import numpy as np\n",
        "import random as r\n",
        "from timeit import default_timer as timer"
      ],
      "execution_count": 1,
      "outputs": [
        {
          "output_type": "stream",
          "text": [
            "Go to this URL in a browser: https://accounts.google.com/o/oauth2/auth?client_id=947318989803-6bn6qk8qdgf4n4g3pfee6491hc0brc4i.apps.googleusercontent.com&redirect_uri=urn%3Aietf%3Awg%3Aoauth%3A2.0%3Aoob&scope=email%20https%3A%2F%2Fwww.googleapis.com%2Fauth%2Fdocs.test%20https%3A%2F%2Fwww.googleapis.com%2Fauth%2Fdrive%20https%3A%2F%2Fwww.googleapis.com%2Fauth%2Fdrive.photos.readonly%20https%3A%2F%2Fwww.googleapis.com%2Fauth%2Fpeopleapi.readonly&response_type=code\n",
            "\n",
            "Enter your authorization code:\n",
            "··········\n",
            "Mounted at /content/drive\n"
          ],
          "name": "stdout"
        }
      ]
    },
    {
      "cell_type": "markdown",
      "metadata": {
        "id": "ot_0jTFPC4I8",
        "colab_type": "text"
      },
      "source": [
        "### Model training "
      ]
    },
    {
      "cell_type": "code",
      "metadata": {
        "scrolled": true,
        "id": "oaNlWE0LC4I9",
        "colab_type": "code",
        "outputId": "f1f0d1c3-2979-4191-81a3-9c81cb8f212a",
        "colab": {
          "base_uri": "https://localhost:8080/",
          "height": 215
        }
      },
      "source": [
        "import pandas as pd\n",
        "data= pd.read_csv('/content/drive/My Drive/Colab Notebooks/nt_toolbox/data/diabetes.csv',sep=\" \", header=None)\n",
        "print(data.shape)\n",
        "data.head() # Preview Data"
      ],
      "execution_count": 2,
      "outputs": [
        {
          "output_type": "stream",
          "text": [
            "(768, 10)\n"
          ],
          "name": "stdout"
        },
        {
          "output_type": "execute_result",
          "data": {
            "text/html": [
              "<div>\n",
              "<style scoped>\n",
              "    .dataframe tbody tr th:only-of-type {\n",
              "        vertical-align: middle;\n",
              "    }\n",
              "\n",
              "    .dataframe tbody tr th {\n",
              "        vertical-align: top;\n",
              "    }\n",
              "\n",
              "    .dataframe thead th {\n",
              "        text-align: right;\n",
              "    }\n",
              "</style>\n",
              "<table border=\"1\" class=\"dataframe\">\n",
              "  <thead>\n",
              "    <tr style=\"text-align: right;\">\n",
              "      <th></th>\n",
              "      <th>0</th>\n",
              "      <th>1</th>\n",
              "      <th>2</th>\n",
              "      <th>3</th>\n",
              "      <th>4</th>\n",
              "      <th>5</th>\n",
              "      <th>6</th>\n",
              "      <th>7</th>\n",
              "      <th>8</th>\n",
              "      <th>9</th>\n",
              "    </tr>\n",
              "  </thead>\n",
              "  <tbody>\n",
              "    <tr>\n",
              "      <th>0</th>\n",
              "      <td>-1</td>\n",
              "      <td>NaN</td>\n",
              "      <td>6.0</td>\n",
              "      <td>148.0</td>\n",
              "      <td>72.0</td>\n",
              "      <td>35.0</td>\n",
              "      <td>0.0</td>\n",
              "      <td>33.599998</td>\n",
              "      <td>0.627</td>\n",
              "      <td>50.0</td>\n",
              "    </tr>\n",
              "    <tr>\n",
              "      <th>1</th>\n",
              "      <td>1</td>\n",
              "      <td>NaN</td>\n",
              "      <td>1.0</td>\n",
              "      <td>85.0</td>\n",
              "      <td>66.0</td>\n",
              "      <td>29.0</td>\n",
              "      <td>0.0</td>\n",
              "      <td>26.600000</td>\n",
              "      <td>0.351</td>\n",
              "      <td>31.0</td>\n",
              "    </tr>\n",
              "    <tr>\n",
              "      <th>2</th>\n",
              "      <td>-1</td>\n",
              "      <td>NaN</td>\n",
              "      <td>8.0</td>\n",
              "      <td>183.0</td>\n",
              "      <td>64.0</td>\n",
              "      <td>0.0</td>\n",
              "      <td>0.0</td>\n",
              "      <td>23.299999</td>\n",
              "      <td>0.672</td>\n",
              "      <td>32.0</td>\n",
              "    </tr>\n",
              "    <tr>\n",
              "      <th>3</th>\n",
              "      <td>1</td>\n",
              "      <td>NaN</td>\n",
              "      <td>1.0</td>\n",
              "      <td>89.0</td>\n",
              "      <td>66.0</td>\n",
              "      <td>23.0</td>\n",
              "      <td>94.0</td>\n",
              "      <td>28.100000</td>\n",
              "      <td>0.167</td>\n",
              "      <td>21.0</td>\n",
              "    </tr>\n",
              "    <tr>\n",
              "      <th>4</th>\n",
              "      <td>-1</td>\n",
              "      <td>NaN</td>\n",
              "      <td>0.0</td>\n",
              "      <td>137.0</td>\n",
              "      <td>40.0</td>\n",
              "      <td>35.0</td>\n",
              "      <td>168.0</td>\n",
              "      <td>43.099998</td>\n",
              "      <td>2.288</td>\n",
              "      <td>33.0</td>\n",
              "    </tr>\n",
              "  </tbody>\n",
              "</table>\n",
              "</div>"
            ],
            "text/plain": [
              "   0   1    2      3     4     5      6          7      8     9\n",
              "0 -1 NaN  6.0  148.0  72.0  35.0    0.0  33.599998  0.627  50.0\n",
              "1  1 NaN  1.0   85.0  66.0  29.0    0.0  26.600000  0.351  31.0\n",
              "2 -1 NaN  8.0  183.0  64.0   0.0    0.0  23.299999  0.672  32.0\n",
              "3  1 NaN  1.0   89.0  66.0  23.0   94.0  28.100000  0.167  21.0\n",
              "4 -1 NaN  0.0  137.0  40.0  35.0  168.0  43.099998  2.288  33.0"
            ]
          },
          "metadata": {
            "tags": []
          },
          "execution_count": 2
        }
      ]
    },
    {
      "cell_type": "code",
      "metadata": {
        "id": "_Df7wFCOC4JB",
        "colab_type": "code",
        "outputId": "a3f95049-4e3e-4913-c248-6c9c3b8752b6",
        "colab": {
          "base_uri": "https://localhost:8080/",
          "height": 283
        }
      },
      "source": [
        "data.info()"
      ],
      "execution_count": 3,
      "outputs": [
        {
          "output_type": "stream",
          "text": [
            "<class 'pandas.core.frame.DataFrame'>\n",
            "RangeIndex: 768 entries, 0 to 767\n",
            "Data columns (total 10 columns):\n",
            "0    768 non-null int64\n",
            "1    0 non-null float64\n",
            "2    768 non-null float64\n",
            "3    768 non-null float64\n",
            "4    768 non-null float64\n",
            "5    768 non-null float64\n",
            "6    768 non-null float64\n",
            "7    768 non-null float64\n",
            "8    768 non-null float64\n",
            "9    768 non-null float64\n",
            "dtypes: float64(9), int64(1)\n",
            "memory usage: 60.1 KB\n"
          ],
          "name": "stdout"
        }
      ]
    },
    {
      "cell_type": "code",
      "metadata": {
        "id": "OO-lxRzRC4JE",
        "colab_type": "code",
        "outputId": "f22f64fc-861b-425f-f11d-b95ba0ce8273",
        "colab": {
          "base_uri": "https://localhost:8080/",
          "height": 34
        }
      },
      "source": [
        "diabetes = '/content/drive/My Drive/Colab Notebooks/nt_toolbox/data/diabetes.csv'\n",
        "data=np.loadtxt(diabetes, unpack=True)\n",
        "data.shape"
      ],
      "execution_count": 4,
      "outputs": [
        {
          "output_type": "execute_result",
          "data": {
            "text/plain": [
              "(9, 768)"
            ]
          },
          "metadata": {
            "tags": []
          },
          "execution_count": 4
        }
      ]
    },
    {
      "cell_type": "markdown",
      "metadata": {
        "id": "gEua1ftlDHNn",
        "colab_type": "text"
      },
      "source": [
        "## Model training"
      ]
    },
    {
      "cell_type": "code",
      "metadata": {
        "id": "B6_rdtTPC4JG",
        "colab_type": "code",
        "colab": {}
      },
      "source": [
        "#Converting the data to X and Y\n",
        "data=np.array(data,dtype=float)\n",
        "A=np.transpose(data[1:])[0:500]\n",
        "(n,m)=A.shape\n",
        "Y=np.transpose(data[0])[0:500]\n",
        "T=[[0 for x in range(m+1)] for y in range(n)]\n",
        "X=np.array(T,dtype=float)\n",
        "for i in range(n):\n",
        "    for j in range(m):\n",
        "        X[i][j]=A[i][j]\n",
        "for i in range(n):\n",
        "    X[i][m]=1"
      ],
      "execution_count": 0,
      "outputs": []
    },
    {
      "cell_type": "code",
      "metadata": {
        "id": "oMUSHjezC4JI",
        "colab_type": "code",
        "colab": {}
      },
      "source": [
        "def subdiff(w,matrix,col):\n",
        "    (n,m)= matrix.shape\n",
        "    u=[1 for i in range (m)]\n",
        "    v=0.0001*w\n",
        "    for i in range(n):\n",
        "        v+= -1/n*col[i]*np.transpose(matrix[i][:])/(1+np.exp(col[i]*np.matmul(np.transpose(w),matrix[i][:])))\n",
        "    return v"
      ],
      "execution_count": 0,
      "outputs": []
    },
    {
      "cell_type": "code",
      "metadata": {
        "id": "hpeyyrXBC4JJ",
        "colab_type": "code",
        "colab": {}
      },
      "source": [
        "def fvalue(matrix,col,w):\n",
        "    (n,m)=matrix.shape\n",
        "    v=0.0001/2*np.linalg.norm(w,ord=2)**2\n",
        "    for i in range(n):\n",
        "        v += 1/n*np.log(1+np.exp(-col[i]*np.matmul(np.transpose(w),matrix[i][:])))\n",
        "    return v"
      ],
      "execution_count": 0,
      "outputs": []
    },
    {
      "cell_type": "code",
      "metadata": {
        "id": "hH_0s-y6C4JL",
        "colab_type": "code",
        "colab": {}
      },
      "source": [
        "## Subgradient descent method\n",
        "def regress(matrix,col):\n",
        "    (n,m)= matrix.shape\n",
        "    w = np.ones(m)\n",
        "    fbest=100*np.ones(10001)\n",
        "    value=np.ones(10000)\n",
        "    for i in range(10000):\n",
        "        v=subdiff(w,matrix,col) #choose a subgradient\n",
        "        w += -1/np.sqrt(i+1)*v# x^{k+1}=x^k-f(x^k)/(norm(v)^2)*v\n",
        "        value[i]=fvalue(X,Y,w) #compute f(x^{k+1})\n",
        "        if value[i]<fbest[i]:#store fbest\n",
        "            fbest[i+1]=value[i]\n",
        "        else:\n",
        "            fbest[i+1]=fbest[i]\n",
        "    return (w, value, fbest)\n"
      ],
      "execution_count": 0,
      "outputs": []
    },
    {
      "cell_type": "code",
      "metadata": {
        "id": "on40qYfUC4JN",
        "colab_type": "code",
        "outputId": "533e8425-ca9e-45fe-fcfe-959e9e40eed7",
        "colab": {
          "base_uri": "https://localhost:8080/",
          "height": 707
        }
      },
      "source": [
        "start = timer()\n",
        "(gdm,value, fbest)=regress(X,Y)\n",
        "end = timer()\n",
        "print('time=',end - start)\n",
        "#print('x=',x)\n",
        "print('value=',value)\n",
        "print('fbest=',fbest)\n",
        "import matplotlib.pyplot as plt\n",
        "plt.plot(np.log(value))\n",
        "plt.xlabel('iteration ith')\n",
        "plt.ylabel('log(f(x_i))')\n",
        "plt.show()\n",
        "plt.plot(np.log(fbest))\n",
        "plt.xlabel('iteration ith')\n",
        "plt.ylabel('log(fbest_i)')\n",
        "plt.show()"
      ],
      "execution_count": 9,
      "outputs": [
        {
          "output_type": "stream",
          "text": [
            "/usr/local/lib/python3.6/dist-packages/ipykernel_launcher.py:6: RuntimeWarning: overflow encountered in exp\n",
            "  \n",
            "/usr/local/lib/python3.6/dist-packages/ipykernel_launcher.py:5: RuntimeWarning: overflow encountered in exp\n",
            "  \"\"\"\n"
          ],
          "name": "stderr"
        },
        {
          "output_type": "stream",
          "text": [
            "time= 86.8480586249998\n",
            "value= [        inf         inf         inf ... 34.60658806 12.90794865\n",
            " 25.7349808 ]\n",
            "fbest= [100.         100.         100.         ...  12.91114918  12.90794865\n",
            "  12.90794865]\n"
          ],
          "name": "stdout"
        },
        {
          "output_type": "display_data",
          "data": {
            "image/png": "[encoded data removed]",
            "text/plain": [
              "<Figure size 432x288 with 1 Axes>"
            ]
          },
          "metadata": {
            "tags": []
          }
        },
        {
          "output_type": "display_data",
          "data": {
            "image/png": "[encoded data removed]",
            "text/plain": [
              "<Figure size 432x288 with 1 Axes>"
            ]
          },
          "metadata": {
            "tags": []
          }
        }
      ]
    },
    {
      "cell_type": "markdown",
      "metadata": {
        "id": "kj1vFkPkDtDb",
        "colab_type": "text"
      },
      "source": [
        "### Stochastic subgradient descent method"
      ]
    },
    {
      "cell_type": "code",
      "metadata": {
        "id": "iv89VbwsC4JQ",
        "colab_type": "code",
        "colab": {}
      },
      "source": [
        "def subdiffsto(w,matrix,col):\n",
        "    (n,m)= X.shape\n",
        "    v=0.0001*w-1/n*col*np.transpose(matrix)/(1+np.exp(col*np.matmul(np.transpose(w),matrix)))\n",
        "    return v"
      ],
      "execution_count": 0,
      "outputs": []
    },
    {
      "cell_type": "code",
      "metadata": {
        "id": "r7cc9o5fC4JS",
        "colab_type": "code",
        "colab": {}
      },
      "source": [
        "##Stochastic subgradient descent method\n",
        "def storegress(matrix,col):\n",
        "    (n,m)= matrix.shape\n",
        "    w = np.ones(m)\n",
        "    fbest=100*np.ones(10001)\n",
        "    a=np.ones(m)\n",
        "    value=np.ones(10000)\n",
        "    for i in range(10000):\n",
        "        j=r.randint(0,n-1) #choose randomly j in [0,n-1]\n",
        "        v=subdiffsto(w,matrix[j][:],col[j]) #choose a subgradient of |a_j'x-b_j|\n",
        "        w += -1/np.sqrt(i+1)*v #x^{k+1}=x^k-1/(norm(v)*sqrt(i+1))*v\n",
        "        value[i]=fvalue(X,Y,w) #compute f(x^{k+1})\n",
        "        if value[i]<fbest[i]:#store fbest\n",
        "            fbest[i+1]=value[i]\n",
        "            a+=-a+w\n",
        "        else:\n",
        "            fbest[i+1]=fbest[i]\n",
        "    return (a, w, value, fbest)\n"
      ],
      "execution_count": 0,
      "outputs": []
    },
    {
      "cell_type": "code",
      "metadata": {
        "id": "nkyzjT7jC4JV",
        "colab_type": "code",
        "outputId": "de33df96-58b6-400f-f910-6a8c0aaaa399",
        "colab": {
          "base_uri": "https://localhost:8080/",
          "height": 654
        }
      },
      "source": [
        "start = timer()\n",
        "(w2best,stogdm,value, fbest)=storegress(X,Y)\n",
        "end = timer()\n",
        "print('time=',end - start)\n",
        "print('value=',value)\n",
        "plt.xlabel('iteration ith')\n",
        "plt.ylabel('log(f(x_i))')\n",
        "plt.show()\n",
        "print('fbest=',fbest)\n",
        "import matplotlib.pyplot as plt\n",
        "plt.plot(np.log(value[1:]))\n",
        "plt.plot(np.log(fbest))\n",
        "plt.xlabel('iteration ith')\n",
        "plt.ylabel('log(fbest_i)')\n",
        "plt.show()"
      ],
      "execution_count": 12,
      "outputs": [
        {
          "output_type": "stream",
          "text": [
            "/usr/local/lib/python3.6/dist-packages/ipykernel_launcher.py:5: RuntimeWarning: overflow encountered in exp\n",
            "  \"\"\"\n"
          ],
          "name": "stderr"
        },
        {
          "output_type": "stream",
          "text": [
            "time= 33.90228942400063\n",
            "value= [       inf        inf        inf ... 1.25162967 1.22335991 1.22351477]\n"
          ],
          "name": "stdout"
        },
        {
          "output_type": "display_data",
          "data": {
            "image/png": "[encoded data removed]",
            "text/plain": [
              "<Figure size 432x288 with 1 Axes>"
            ]
          },
          "metadata": {
            "tags": []
          }
        },
        {
          "output_type": "stream",
          "text": [
            "fbest= [100.         100.         100.         ...   1.21834899   1.21834899\n",
            "   1.21834899]\n"
          ],
          "name": "stdout"
        },
        {
          "output_type": "display_data",
          "data": {
            "image/png": "[encoded data removed]",
            "text/plain": [
              "<Figure size 432x288 with 1 Axes>"
            ]
          },
          "metadata": {
            "tags": []
          }
        }
      ]
    },
    {
      "cell_type": "markdown",
      "metadata": {
        "id": "ErxBEoZFC4JX",
        "colab_type": "text"
      },
      "source": [
        "### Model testing"
      ]
    },
    {
      "cell_type": "code",
      "metadata": {
        "id": "mM8ccN9cC4JX",
        "colab_type": "code",
        "outputId": "3ce5fea1-6d9a-41ba-b224-903bdf59dfcc",
        "colab": {
          "base_uri": "https://localhost:8080/",
          "height": 34
        }
      },
      "source": [
        "B=np.transpose(data[1:])[500:-1]\n",
        "(n,m)=B.shape\n",
        "print(B.shape)\n",
        "C=np.transpose(data[0])[500:-1]\n",
        "Test=[[0 for x in range(m+1)] for y in range(n)]\n",
        "Xtest=np.array(Test)\n",
        "for i in range(n):\n",
        "    for j in range(m):\n",
        "        Xtest[i][j]=B[i][j]\n",
        "for i in range(n):\n",
        "    Xtest[i][m]=1\n",
        "#prettyP(Xtest)"
      ],
      "execution_count": 13,
      "outputs": [
        {
          "output_type": "stream",
          "text": [
            "(267, 8)\n"
          ],
          "name": "stdout"
        }
      ]
    },
    {
      "cell_type": "code",
      "metadata": {
        "id": "8igBBfwCC4JZ",
        "colab_type": "code",
        "outputId": "ab4809bd-cb0a-44b3-9a6e-9ef5d8674110",
        "colab": {
          "base_uri": "https://localhost:8080/",
          "height": 585
        }
      },
      "source": [
        "y1=np.matmul(Xtest,gdm)\n",
        "y2=np.matmul(Xtest,w2best)\n",
        "for i in range(n):\n",
        "    if y1[i]>0:\n",
        "        y1[i]=1\n",
        "    else:\n",
        "        y1[i]=-1\n",
        "for i in range(n):\n",
        "    if y2[i]>0:\n",
        "        y2[i]=1\n",
        "    else:\n",
        "        y2[i]=-1\n",
        "print(y1)\n",
        "print(y2)\n",
        "count1=0\n",
        "for i in range(n):\n",
        "    if y1[i]==C[i]:\n",
        "        count1+=1\n",
        "eff1=count1/n\n",
        "count2=0\n",
        "for i in range(n):\n",
        "    if y2[i]==C[i]:\n",
        "        count2+=1\n",
        "eff2=count2/n\n",
        "print('efficientcy1=',eff1)\n",
        "print('efficientcy2=',eff2)"
      ],
      "execution_count": 17,
      "outputs": [
        {
          "output_type": "stream",
          "text": [
            "[ 1.  1.  1.  1.  1.  1.  1.  1.  1.  1.  1.  1.  1.  1.  1.  1.  1.  1.\n",
            " -1.  1.  1.  1. -1.  1.  1.  1.  1.  1.  1.  1.  1.  1.  1. -1.  1. -1.\n",
            "  1.  1.  1.  1.  1.  1.  1.  1.  1.  1.  1.  1.  1.  1.  1.  1.  1.  1.\n",
            "  1.  1.  1.  1.  1.  1.  1.  1.  1.  1.  1.  1.  1.  1.  1.  1.  1.  1.\n",
            "  1.  1.  1.  1.  1.  1.  1.  1.  1.  1.  1.  1.  1.  1.  1.  1.  1.  1.\n",
            "  1.  1.  1.  1.  1.  1.  1.  1.  1.  1.  1. -1.  1.  1. -1.  1.  1.  1.\n",
            "  1.  1.  1.  1.  1.  1.  1.  1.  1.  1.  1. -1.  1.  1.  1.  1.  1.  1.\n",
            "  1.  1.  1.  1.  1.  1.  1.  1.  1. -1.  1.  1.  1.  1.  1.  1.  1. -1.\n",
            "  1.  1.  1.  1.  1.  1.  1.  1.  1.  1.  1.  1.  1.  1.  1.  1.  1.  1.\n",
            "  1.  1.  1.  1.  1.  1.  1.  1.  1.  1.  1.  1.  1.  1.  1.  1.  1.  1.\n",
            "  1.  1.  1.  1.  1.  1.  1.  1.  1.  1.  1.  1.  1.  1.  1.  1.  1.  1.\n",
            "  1.  1.  1.  1.  1. -1.  1.  1. -1.  1.  1.  1.  1.  1.  1.  1.  1.  1.\n",
            "  1.  1.  1.  1.  1.  1.  1.  1.  1.  1.  1.  1.  1.  1.  1.  1.  1.  1.\n",
            "  1.  1.  1.  1.  1.  1.  1.  1.  1.  1.  1.  1.  1.  1.  1.  1.  1.  1.\n",
            "  1.  1.  1.  1.  1.  1.  1.  1.  1.  1.  1.  1.  1.  1.  1.]\n",
            "[-1.  1.  1.  1.  1.  1. -1. -1.  1.  1.  1. -1.  1.  1.  1. -1.  1.  1.\n",
            "  1.  1.  1.  1. -1.  1. -1.  1. -1. -1. -1. -1. -1. -1.  1.  1.  1. -1.\n",
            " -1.  1. -1.  1.  1. -1.  1.  1.  1.  1.  1.  1. -1. -1. -1.  1.  1.  1.\n",
            "  1.  1.  1.  1.  1.  1.  1. -1.  1.  1. -1. -1.  1.  1. -1. -1.  1. -1.\n",
            "  1.  1. -1. -1.  1. -1.  1. -1. -1.  1.  1.  1.  1. -1.  1.  1. -1. -1.\n",
            "  1.  1. -1.  1.  1. -1.  1. -1. -1. -1. -1.  1. -1.  1. -1. -1. -1. -1.\n",
            " -1. -1.  1. -1.  1.  1.  1. -1.  1.  1.  1. -1.  1.  1.  1.  1. -1.  1.\n",
            " -1. -1.  1.  1.  1. -1. -1. -1.  1.  1.  1.  1.  1. -1. -1. -1.  1.  1.\n",
            "  1. -1. -1. -1.  1. -1. -1. -1.  1. -1. -1. -1. -1.  1.  1.  1.  1. -1.\n",
            "  1.  1.  1. -1.  1.  1.  1.  1.  1. -1.  1.  1.  1. -1.  1. -1. -1. -1.\n",
            "  1. -1.  1.  1. -1. -1. -1. -1. -1. -1.  1.  1.  1.  1. -1.  1. -1. -1.\n",
            "  1.  1. -1.  1. -1. -1.  1.  1.  1. -1.  1.  1. -1.  1.  1. -1.  1. -1.\n",
            " -1.  1.  1.  1.  1. -1. -1.  1. -1.  1. -1. -1. -1.  1. -1.  1. -1. -1.\n",
            "  1.  1. -1.  1.  1.  1.  1.  1. -1.  1.  1.  1. -1.  1. -1. -1.  1. -1.\n",
            "  1. -1.  1.  1.  1. -1. -1. -1.  1.  1.  1.  1. -1.  1. -1.]\n",
            "efficientcy1= 0.6741573033707865\n",
            "efficientcy2= 0.5393258426966292\n"
          ],
          "name": "stdout"
        }
      ]
    },
    {
      "cell_type": "markdown",
      "metadata": {
        "collapsed": true,
        "id": "qTfPYkobC4Jb",
        "colab_type": "text"
      },
      "source": [
        "From the result, we can see that logistic regression and svm perform similar in both method."
      ]
    },
    {
      "cell_type": "code",
      "metadata": {
        "id": "Su_5dFoBC4Jc",
        "colab_type": "code",
        "colab": {}
      },
      "source": [
        ""
      ],
      "execution_count": 0,
      "outputs": []
    }
  ]
}