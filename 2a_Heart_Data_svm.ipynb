{
  "nbformat": 4,
  "nbformat_minor": 0,
  "metadata": {
    "celltoolbar": "Raw Cell Format",
    "kernelspec": {
      "name": "python3",
      "display_name": "Python 3"
    },
    "language_info": {
      "codemirror_mode": {
        "name": "ipython",
        "version": 3
      },
      "file_extension": ".py",
      "mimetype": "text/x-python",
      "name": "python",
      "nbconvert_exporter": "python",
      "pygments_lexer": "ipython3",
      "version": "3.7.1"
    },
    "colab": {
      "name": "2a_Heart_Data_svm.ipynb",
      "version": "0.3.2",
      "provenance": []
    },
    "accelerator": "GPU"
  },
  "cells": [
    {
      "cell_type": "markdown",
      "metadata": {
        "id": "M49COSmwh3Bh",
        "colab_type": "text"
      },
      "source": [
        " We first need to load the data *heart.dat* and create matrix of observations $X$ and clasification $Y$."
      ]
    },
    {
      "cell_type": "code",
      "metadata": {
        "id": "WsMJT9R2h3Bj",
        "colab_type": "code",
        "outputId": "3c6bd9af-ce5e-48f5-91e1-b34e982bc93c",
        "colab": {
          "base_uri": "https://localhost:8080/",
          "height": 34
        }
      },
      "source": [
        "from google.colab import drive\n",
        "drive.mount('/content/drive')\n",
        "import numpy as np\n",
        "import random as r\n",
        "from timeit import default_timer as timer"
      ],
      "execution_count": 0,
      "outputs": [
        {
          "output_type": "stream",
          "text": [
            "Drive already mounted at /content/drive; to attempt to forcibly remount, call drive.mount(\"/content/drive\", force_remount=True).\n"
          ],
          "name": "stdout"
        }
      ]
    },
    {
      "cell_type": "code",
      "metadata": {
        "id": "NKHoHjU2h3Br",
        "colab_type": "code",
        "outputId": "4610e398-e638-4095-8496-f2527334b6a7",
        "colab": {
          "base_uri": "https://localhost:8080/",
          "height": 235
        }
      },
      "source": [
        "import pandas as pd\n",
        "data= pd.read_csv('/content/drive/My Drive/Colab Notebooks/nt_toolbox/data/heart.dat',sep=\" \", header=None)\n",
        "print(data.shape)\n",
        "nameData = data.copy()\n",
        "nameData.columns = ['Age', 'Sex','ChestPainType','RestBloodPressure','SerumCholestoral','FastingBloodSugar',\n",
        "                   'RestingElectrocardResult','MaxHeartRate','ExerciseInducedAngina',\n",
        "                   'Oldpeak','SlopePeak','NumMajorVessels', 'thalCode','HeartDisease']\n",
        "nameData.head() # Preview Data"
      ],
      "execution_count": 0,
      "outputs": [
        {
          "output_type": "stream",
          "text": [
            "(270, 14)\n"
          ],
          "name": "stdout"
        },
        {
          "output_type": "execute_result",
          "data": {
            "text/html": [
              "<div>\n",
              "<style scoped>\n",
              "    .dataframe tbody tr th:only-of-type {\n",
              "        vertical-align: middle;\n",
              "    }\n",
              "\n",
              "    .dataframe tbody tr th {\n",
              "        vertical-align: top;\n",
              "    }\n",
              "\n",
              "    .dataframe thead th {\n",
              "        text-align: right;\n",
              "    }\n",
              "</style>\n",
              "<table border=\"1\" class=\"dataframe\">\n",
              "  <thead>\n",
              "    <tr style=\"text-align: right;\">\n",
              "      <th></th>\n",
              "      <th>Age</th>\n",
              "      <th>Sex</th>\n",
              "      <th>ChestPainType</th>\n",
              "      <th>RestBloodPressure</th>\n",
              "      <th>SerumCholestoral</th>\n",
              "      <th>FastingBloodSugar</th>\n",
              "      <th>RestingElectrocardResult</th>\n",
              "      <th>MaxHeartRate</th>\n",
              "      <th>ExerciseInducedAngina</th>\n",
              "      <th>Oldpeak</th>\n",
              "      <th>SlopePeak</th>\n",
              "      <th>NumMajorVessels</th>\n",
              "      <th>thalCode</th>\n",
              "      <th>HeartDisease</th>\n",
              "    </tr>\n",
              "  </thead>\n",
              "  <tbody>\n",
              "    <tr>\n",
              "      <th>0</th>\n",
              "      <td>70.0</td>\n",
              "      <td>1.0</td>\n",
              "      <td>4.0</td>\n",
              "      <td>130.0</td>\n",
              "      <td>322.0</td>\n",
              "      <td>0.0</td>\n",
              "      <td>2.0</td>\n",
              "      <td>109.0</td>\n",
              "      <td>0.0</td>\n",
              "      <td>2.4</td>\n",
              "      <td>2.0</td>\n",
              "      <td>3.0</td>\n",
              "      <td>3.0</td>\n",
              "      <td>2</td>\n",
              "    </tr>\n",
              "    <tr>\n",
              "      <th>1</th>\n",
              "      <td>67.0</td>\n",
              "      <td>0.0</td>\n",
              "      <td>3.0</td>\n",
              "      <td>115.0</td>\n",
              "      <td>564.0</td>\n",
              "      <td>0.0</td>\n",
              "      <td>2.0</td>\n",
              "      <td>160.0</td>\n",
              "      <td>0.0</td>\n",
              "      <td>1.6</td>\n",
              "      <td>2.0</td>\n",
              "      <td>0.0</td>\n",
              "      <td>7.0</td>\n",
              "      <td>1</td>\n",
              "    </tr>\n",
              "    <tr>\n",
              "      <th>2</th>\n",
              "      <td>57.0</td>\n",
              "      <td>1.0</td>\n",
              "      <td>2.0</td>\n",
              "      <td>124.0</td>\n",
              "      <td>261.0</td>\n",
              "      <td>0.0</td>\n",
              "      <td>0.0</td>\n",
              "      <td>141.0</td>\n",
              "      <td>0.0</td>\n",
              "      <td>0.3</td>\n",
              "      <td>1.0</td>\n",
              "      <td>0.0</td>\n",
              "      <td>7.0</td>\n",
              "      <td>2</td>\n",
              "    </tr>\n",
              "    <tr>\n",
              "      <th>3</th>\n",
              "      <td>64.0</td>\n",
              "      <td>1.0</td>\n",
              "      <td>4.0</td>\n",
              "      <td>128.0</td>\n",
              "      <td>263.0</td>\n",
              "      <td>0.0</td>\n",
              "      <td>0.0</td>\n",
              "      <td>105.0</td>\n",
              "      <td>1.0</td>\n",
              "      <td>0.2</td>\n",
              "      <td>2.0</td>\n",
              "      <td>1.0</td>\n",
              "      <td>7.0</td>\n",
              "      <td>1</td>\n",
              "    </tr>\n",
              "    <tr>\n",
              "      <th>4</th>\n",
              "      <td>74.0</td>\n",
              "      <td>0.0</td>\n",
              "      <td>2.0</td>\n",
              "      <td>120.0</td>\n",
              "      <td>269.0</td>\n",
              "      <td>0.0</td>\n",
              "      <td>2.0</td>\n",
              "      <td>121.0</td>\n",
              "      <td>1.0</td>\n",
              "      <td>0.2</td>\n",
              "      <td>1.0</td>\n",
              "      <td>1.0</td>\n",
              "      <td>3.0</td>\n",
              "      <td>1</td>\n",
              "    </tr>\n",
              "  </tbody>\n",
              "</table>\n",
              "</div>"
            ],
            "text/plain": [
              "    Age  Sex  ChestPainType  ...  NumMajorVessels  thalCode  HeartDisease\n",
              "0  70.0  1.0            4.0  ...              3.0       3.0             2\n",
              "1  67.0  0.0            3.0  ...              0.0       7.0             1\n",
              "2  57.0  1.0            2.0  ...              0.0       7.0             2\n",
              "3  64.0  1.0            4.0  ...              1.0       7.0             1\n",
              "4  74.0  0.0            2.0  ...              1.0       3.0             1\n",
              "\n",
              "[5 rows x 14 columns]"
            ]
          },
          "metadata": {
            "tags": []
          },
          "execution_count": 2
        }
      ]
    },
    {
      "cell_type": "code",
      "metadata": {
        "id": "i08Eqmrjh3Bw",
        "colab_type": "code",
        "colab": {}
      },
      "source": [
        "heart = '/content/drive/My Drive/Colab Notebooks/nt_toolbox/data/heart.dat'\n",
        "data=np.loadtxt(heart, unpack=True)"
      ],
      "execution_count": 0,
      "outputs": []
    },
    {
      "cell_type": "markdown",
      "metadata": {
        "id": "pOrOFJfpirQ6",
        "colab_type": "text"
      },
      "source": [
        "## Data training"
      ]
    },
    {
      "cell_type": "code",
      "metadata": {
        "scrolled": true,
        "id": "9igz6Kjwh3Bz",
        "colab_type": "code",
        "colab": {}
      },
      "source": [
        "#Converting the data to X and Y\n",
        "A=np.transpose(data[0:-1])[0:220]\n",
        "(n,m)=A.shape\n",
        "Y=np.transpose(2*(data[-1][0:220]-1.5*np.ones(n)))\n",
        "T=[[0 for x in range(m+1)] for y in range(n)]\n",
        "X=np.array(T)\n",
        "for i in range(n):\n",
        "    for j in range(m):\n",
        "        X[i][j]=A[i][j]\n",
        "for i in range(n):\n",
        "    X[i][m]=1\n",
        "#prettyP(X)\n",
        "#prettyP(Y)"
      ],
      "execution_count": 0,
      "outputs": []
    },
    {
      "cell_type": "markdown",
      "metadata": {
        "id": "HrqY5XQKh3B2",
        "colab_type": "text"
      },
      "source": [
        "In this part, we consider the support vector machine problem:\n",
        "\\begin{equation}\n",
        "\\min_{w\\in\\mathbb{R}^m}\\varphi(w):=\\frac{\\lambda}{2}\\Vert w\\Vert^2+\\frac{1}{n}\\sum_{i=1}^n \\max\\{0, 1-y_iw^Tx_i\\} \\quad\\text{ with } \\lambda=0.00001\n",
        "\\end{equation}"
      ]
    },
    {
      "cell_type": "markdown",
      "metadata": {
        "id": "KBhclMp6h3B2",
        "colab_type": "text"
      },
      "source": [
        "## Subgradient descent method"
      ]
    },
    {
      "cell_type": "markdown",
      "metadata": {
        "id": "aB6-ajlwh3B4",
        "colab_type": "text"
      },
      "source": [
        "The subdifferential of $\\varphi$ is \n",
        "$\n",
        "\\partial \\varphi(w)= \\lambda w+\\frac{1}{n}\\sum_{i=1}^n\\partial f_i(w),\n",
        "$\n",
        "where\n",
        "$$\n",
        "\\partial f_i(w)=\\begin{cases} 0 & \\text{ if } 1-y_iw^Tx_i<0,\\\\\n",
        "-[0,1]\\times y_ix_i & \\text{ if } 1-y_iw^Tx_i=0,\\\\\n",
        "-y_ix_i & \\text{ otherwise}.\n",
        "\\end{cases}\n",
        "$$\n",
        "The subgradient descent method\n",
        "1. Initialize: $w=(1,1,\\cdots,1)$\n",
        "2. Iteration: \n",
        "Choose $v_k\\in\\partial \\varphi(x^k)$, then\n",
        "$$x^{k+1}=x^k-\\dfrac{1}{\\sqrt{k+1}}v_k$$\n"
      ]
    },
    {
      "cell_type": "code",
      "metadata": {
        "id": "oSZ2meqth3B4",
        "colab_type": "code",
        "colab": {}
      },
      "source": [
        "#Choosing a subgradient\n",
        "def subdiff(w,matrix,u,col):\n",
        "    (n,m)= matrix.shape\n",
        "    v=0.00001*w\n",
        "    for i in range(n):\n",
        "        c = col[i]*np.matmul(np.transpose(w),np.transpose(matrix[i][:]))\n",
        "        if (1-c)<0:\n",
        "            u=np.zeros(m)\n",
        "        elif (1-c)>0:\n",
        "            u=-col[i]*np.transpose(matrix[i][:])\n",
        "        else:\n",
        "            u=-r.randrange(0,1)*col[i]*np.transpose(matrix[i][:])\n",
        "        v +=1/n*u\n",
        "    return v"
      ],
      "execution_count": 0,
      "outputs": []
    },
    {
      "cell_type": "code",
      "metadata": {
        "id": "F9mJbcPCh3B7",
        "colab_type": "code",
        "colab": {}
      },
      "source": [
        "def fvalue(matrix,col,w):\n",
        "    (n,m)=matrix.shape\n",
        "    v=0.00001/2*np.linalg.norm(w,ord=2)**2\n",
        "    for i in range(n):\n",
        "        v += 1/n*max(0, 1-col[i]*np.matmul(np.transpose(w),np.transpose(matrix[i][:])))\n",
        "    return v"
      ],
      "execution_count": 0,
      "outputs": []
    },
    {
      "cell_type": "code",
      "metadata": {
        "id": "tS9F0tSDh3B-",
        "colab_type": "code",
        "colab": {}
      },
      "source": [
        "## Subgradient descent method\n",
        "def regress(matrix,col):\n",
        "    (n,m)= matrix.shape\n",
        "    norm=np.linalg.norm(matrix,ord=2)**2\n",
        "    u = [1 for i in range (m)]\n",
        "    w = np.zeros(m)\n",
        "    fbest=100*np.ones(10001)\n",
        "    a=np.ones(m)\n",
        "    value=np.ones(10000)\n",
        "    for i in range(10000):\n",
        "        v=subdiff(w,matrix,u,col) #choose a subgradient\n",
        "        w += -1/np.sqrt(i+1)*v# x^{k+1}=x^k-f(x^k)/(norm(v)^2)*v\n",
        "        value[i]=fvalue(X,Y,w) #compute f(x^{k+1})\n",
        "        if value[i]<fbest[i]:#store fbest\n",
        "            fbest[i+1]=value[i]\n",
        "            a+=-a+w\n",
        "        else:\n",
        "            fbest[i+1]=fbest[i]\n",
        "    return (a, w, value, fbest)"
      ],
      "execution_count": 0,
      "outputs": []
    },
    {
      "cell_type": "code",
      "metadata": {
        "id": "VqrKd5fCh3CC",
        "colab_type": "code",
        "outputId": "188bf0ad-0add-4652-8bac-1f6edcaaf3e9",
        "colab": {
          "base_uri": "https://localhost:8080/",
          "height": 636
        }
      },
      "source": [
        "start = timer()\n",
        "(wbest,gdm,value, fbest)=regress(X,Y)\n",
        "end = timer()\n",
        "print('time=',end - start)\n",
        "#print('x=',x)\n",
        "print('value=',value)\n",
        "print('fbest=',fbest)\n",
        "import matplotlib.pyplot as plt\n",
        "plt.plot(np.log(value))\n",
        "plt.xlabel('iteration ith')\n",
        "plt.ylabel('log(f(x_i))')\n",
        "plt.show()\n",
        "plt.plot(np.log(fbest))\n",
        "plt.xlabel('iteration ith')\n",
        "plt.ylabel('log(fbest_i)')\n",
        "plt.show()"
      ],
      "execution_count": 0,
      "outputs": [
        {
          "output_type": "stream",
          "text": [
            "time= 50.82135113700042\n",
            "value= [ 5457.71896384 11021.94323489  5988.7776683  ...    13.51909805\n",
            "    13.51942672    13.51799998]\n",
            "fbest= [100.         100.         100.         ...  13.51909805  13.51909805\n",
            "  13.51799998]\n"
          ],
          "name": "stdout"
        },
        {
          "output_type": "display_data",
          "data": {
            "image/png": "[encoded data removed]",
            "text/plain": [
              "<Figure size 432x288 with 1 Axes>"
            ]
          },
          "metadata": {
            "tags": []
          }
        },
        {
          "output_type": "display_data",
          "data": {
            "image/png": "[encoded data removed]",
            "text/plain": [
              "<Figure size 432x288 with 1 Axes>"
            ]
          },
          "metadata": {
            "tags": []
          }
        }
      ]
    },
    {
      "cell_type": "markdown",
      "metadata": {
        "id": "cv_u7Sq6h3CI",
        "colab_type": "text"
      },
      "source": [
        "## Stochastic subgradient descent method"
      ]
    },
    {
      "cell_type": "markdown",
      "metadata": {
        "id": "5LfvLK37h3CJ",
        "colab_type": "text"
      },
      "source": [
        "The stochastic subgradient descent method is\n",
        "1. Initialize: $w=(1,1,\\cdots,1)$\n",
        "2. Iteration: \n",
        "Pick randomly $i\\in \\{1,\\cdots,n\\}$, and $v_k\\in\\partial f_i(x^k)$, then\n",
        "$$x^{k+1}=x^k-\\dfrac{1}{\\sqrt{k+1}\\Vert v_k\\Vert}v_k$$\n"
      ]
    },
    {
      "cell_type": "code",
      "metadata": {
        "id": "nFfQ006Nh3CL",
        "colab_type": "code",
        "colab": {}
      },
      "source": [
        "def subdiffsto(w,matrix,col):\n",
        "    (n,m)=X.shape\n",
        "    c = col*np.matmul(np.transpose(w),np.transpose(matrix))\n",
        "    if (1-c)<0:\n",
        "        u=np.zeros(m)\n",
        "    elif (1-c)>0:\n",
        "        u=-col*np.transpose(matrix)\n",
        "    else:\n",
        "        u=-r.randrange(0,1)*col*np.transpose(matrix)\n",
        "    v =u+0.00001*w\n",
        "    return v"
      ],
      "execution_count": 0,
      "outputs": []
    },
    {
      "cell_type": "code",
      "metadata": {
        "id": "_EM_gDKWh3CO",
        "colab_type": "code",
        "colab": {}
      },
      "source": [
        "##Stochastic subgradient descent method\n",
        "def storegress(matrix,col):\n",
        "    (n,m)= matrix.shape\n",
        "    norm=np.linalg.norm(matrix,ord=2)**2\n",
        "    w=np.ones(m)\n",
        "    fbest=100*np.ones(100001)\n",
        "    a=np.ones(m)\n",
        "    value=np.ones(100000)\n",
        "    for i in range(100000):\n",
        "        j=r.randint(0,n-1) #choose randomly j in [0,n-1]\n",
        "        v=subdiffsto(w,matrix[j][:],col[j]) #choose a subgradient of |a_j'x-b_j|\n",
        "        w += -1/np.sqrt(i+1)*v #x^{k+1}=x^k-1/(norm(v)*sqrt(i+1))*v\n",
        "        value[i]=fvalue(X,Y,w)#compute f(x^{k+1})\n",
        "        if value[i]<fbest[i]:#store fbest\n",
        "            fbest[i+1]=value[i]\n",
        "            a=-a+w\n",
        "        else:\n",
        "            fbest[i+1]=fbest[i]\n",
        "    return (a, w, value, fbest)\n"
      ],
      "execution_count": 0,
      "outputs": []
    },
    {
      "cell_type": "code",
      "metadata": {
        "id": "X783fZ7lh3CQ",
        "colab_type": "code",
        "outputId": "72b4331a-60b1-4936-f942-bed41d703633",
        "colab": {
          "base_uri": "https://localhost:8080/",
          "height": 636
        }
      },
      "source": [
        "start = timer()\n",
        "(wstobest,stogdm,value, fbest)=storegress(X,Y)\n",
        "end = timer()\n",
        "print('time=',end - start)\n",
        "#print('x=',x)\n",
        "print('value=',value)\n",
        "print('fbest=',fbest)\n",
        "import matplotlib.pyplot as plt\n",
        "plt.plot(np.log(value))\n",
        "plt.xlabel('iteration ith')\n",
        "plt.ylabel('log(f(x_i))')\n",
        "plt.show()\n",
        "plt.plot(np.log(fbest))\n",
        "plt.xlabel('iteration ith')\n",
        "plt.ylabel('log(fbest_i)')\n",
        "plt.show()"
      ],
      "execution_count": 0,
      "outputs": [
        {
          "output_type": "stream",
          "text": [
            "time= 183.55609853399983\n",
            "value= [3.82526115e+04 3.82523410e+04 3.82521202e+04 ... 1.79332377e+02\n",
            " 3.36091421e+01 3.42557521e+01]\n",
            "fbest= [100.         100.         100.         ...  21.27756495  21.27756495\n",
            "  21.27756495]\n"
          ],
          "name": "stdout"
        },
        {
          "output_type": "display_data",
          "data": {
            "image/png": "[encoded data removed]",
            "text/plain": [
              "<Figure size 432x288 with 1 Axes>"
            ]
          },
          "metadata": {
            "tags": []
          }
        },
        {
          "output_type": "display_data",
          "data": {
            "image/png": "[encoded data removed]",
            "text/plain": [
              "<Figure size 432x288 with 1 Axes>"
            ]
          },
          "metadata": {
            "tags": []
          }
        }
      ]
    },
    {
      "cell_type": "markdown",
      "metadata": {
        "id": "R8EQKiyWh3CS",
        "colab_type": "text"
      },
      "source": [
        "## Use test data to examine the result"
      ]
    },
    {
      "cell_type": "code",
      "metadata": {
        "id": "OT3BtUnKh3CS",
        "colab_type": "code",
        "outputId": "029c4df7-98e5-4070-b30d-e1535d6d7714",
        "colab": {
          "base_uri": "https://localhost:8080/",
          "height": 87
        }
      },
      "source": [
        "B=np.transpose(data[0:-1])[220:]\n",
        "(n,m)=B.shape\n",
        "print(B.shape)\n",
        "C=np.transpose(data[-1])[220:]\n",
        "Test=[[0 for x in range(m+1)] for y in range(n)]\n",
        "Xtest=np.array(Test)\n",
        "for i in range(n):\n",
        "    for j in range(m):\n",
        "        Xtest[i][j]=B[i][j]\n",
        "for i in range(n):\n",
        "    Xtest[i][m]=1\n",
        "#prettyP(Xtest)\n",
        "print(C)"
      ],
      "execution_count": 0,
      "outputs": [
        {
          "output_type": "stream",
          "text": [
            "(50, 13)\n",
            "[2. 2. 1. 2. 1. 1. 2. 2. 1. 1. 2. 2. 1. 2. 1. 2. 1. 2. 1. 1. 2. 1. 1. 2.\n",
            " 1. 2. 2. 1. 2. 2. 2. 1. 2. 1. 1. 1. 1. 2. 2. 1. 1. 2. 2. 1. 2. 1. 1. 1.\n",
            " 1. 2.]\n"
          ],
          "name": "stdout"
        }
      ]
    },
    {
      "cell_type": "code",
      "metadata": {
        "id": "GlbrBFXbh3CU",
        "colab_type": "code",
        "outputId": "2f7bc768-66ba-471c-faa0-f831c3eb4c19",
        "colab": {
          "base_uri": "https://localhost:8080/",
          "height": 158
        }
      },
      "source": [
        "y1=np.matmul(Xtest,gdm)\n",
        "y2=np.matmul(Xtest,stogdm)\n",
        "for i in range(n):\n",
        "    if y1[i]<0:\n",
        "        y1[i]=1\n",
        "    else:\n",
        "        y1[i]=2\n",
        "for i in range(n):\n",
        "    if y2[i]<0:\n",
        "        y2[i]=1\n",
        "    else:\n",
        "        y2[i]=2\n",
        "print(y1)\n",
        "print(y2)\n",
        "count1=0\n",
        "for i in range(n):\n",
        "    if y1[i]==C[i]:\n",
        "        count1+=1\n",
        "eff1=count1/n\n",
        "count2=0\n",
        "for i in range(n):\n",
        "    if y2[i]==C[i]:\n",
        "        count2+=1\n",
        "eff2=count2/n\n",
        "print('efficientcy1=',eff1)\n",
        "print('efficientcy2=',eff2)"
      ],
      "execution_count": 0,
      "outputs": [
        {
          "output_type": "stream",
          "text": [
            "[2. 2. 1. 2. 1. 2. 2. 2. 1. 1. 2. 2. 1. 2. 2. 2. 1. 2. 1. 1. 2. 1. 1. 1.\n",
            " 1. 2. 2. 1. 1. 2. 2. 1. 1. 1. 1. 1. 1. 2. 1. 1. 1. 2. 1. 1. 2. 2. 1. 1.\n",
            " 2. 2.]\n",
            "[2. 2. 1. 2. 1. 1. 2. 2. 1. 1. 1. 2. 1. 1. 2. 2. 1. 2. 1. 1. 1. 1. 1. 1.\n",
            " 1. 2. 1. 1. 1. 2. 2. 1. 1. 1. 1. 1. 1. 2. 1. 1. 1. 2. 1. 1. 1. 1. 1. 1.\n",
            " 1. 2.]\n",
            "efficientcy1= 0.82\n",
            "efficientcy2= 0.78\n"
          ],
          "name": "stdout"
        }
      ]
    },
    {
      "cell_type": "code",
      "metadata": {
        "id": "R2cpfL6Ih3CW",
        "colab_type": "code",
        "colab": {}
      },
      "source": [
        ""
      ],
      "execution_count": 0,
      "outputs": []
    }
  ]
}