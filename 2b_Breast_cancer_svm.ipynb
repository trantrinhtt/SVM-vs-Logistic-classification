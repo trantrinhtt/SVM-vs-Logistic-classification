{
  "nbformat": 4,
  "nbformat_minor": 0,
  "metadata": {
    "celltoolbar": "Raw Cell Format",
    "kernelspec": {
      "name": "python3",
      "display_name": "Python 3"
    },
    "language_info": {
      "codemirror_mode": {
        "name": "ipython",
        "version": 3
      },
      "file_extension": ".py",
      "mimetype": "text/x-python",
      "name": "python",
      "nbconvert_exporter": "python",
      "pygments_lexer": "ipython3",
      "version": "3.7.1"
    },
    "colab": {
      "name": "2b.Breast cancer_svm.ipynb",
      "version": "0.3.2",
      "provenance": []
    },
    "accelerator": "GPU"
  },
  "cells": [
    {
      "cell_type": "code",
      "metadata": {
        "id": "9sBRYVWIIo9l",
        "colab_type": "code",
        "outputId": "de0bdff5-b849-42c0-8480-394c4129d16f",
        "colab": {
          "base_uri": "https://localhost:8080/",
          "height": 306
        }
      },
      "source": [
        "from google.colab import drive\n",
        "drive.mount('/content/drive')\n",
        "import numpy as np\n",
        "import random as r\n",
        "from timeit import default_timer as timer\n",
        "import pandas as pd\n",
        "data = pd.read_csv('http://archive.ics.uci.edu/ml/machine-learning-databases/breast-cancer-wisconsin/breast-cancer-wisconsin.data',delimiter=\",\", header=None)\n",
        "data = data.copy()\n",
        "data.columns = ['ID', ' radius','texture', 'perimeter','area ','smoothness','compactness','concavity','concave points','symmetry ','fractal dimension']\n",
        "data.head() # Preview Data"
      ],
      "execution_count": 1,
      "outputs": [
        {
          "output_type": "stream",
          "text": [
            "Go to this URL in a browser: https://accounts.google.com/o/oauth2/auth?client_id=947318989803-6bn6qk8qdgf4n4g3pfee6491hc0brc4i.apps.googleusercontent.com&redirect_uri=urn%3Aietf%3Awg%3Aoauth%3A2.0%3Aoob&scope=email%20https%3A%2F%2Fwww.googleapis.com%2Fauth%2Fdocs.test%20https%3A%2F%2Fwww.googleapis.com%2Fauth%2Fdrive%20https%3A%2F%2Fwww.googleapis.com%2Fauth%2Fdrive.photos.readonly%20https%3A%2F%2Fwww.googleapis.com%2Fauth%2Fpeopleapi.readonly&response_type=code\n",
            "\n",
            "Enter your authorization code:\n",
            "··········\n",
            "Mounted at /content/drive\n"
          ],
          "name": "stdout"
        },
        {
          "output_type": "execute_result",
          "data": {
            "text/html": [
              "<div>\n",
              "<style scoped>\n",
              "    .dataframe tbody tr th:only-of-type {\n",
              "        vertical-align: middle;\n",
              "    }\n",
              "\n",
              "    .dataframe tbody tr th {\n",
              "        vertical-align: top;\n",
              "    }\n",
              "\n",
              "    .dataframe thead th {\n",
              "        text-align: right;\n",
              "    }\n",
              "</style>\n",
              "<table border=\"1\" class=\"dataframe\">\n",
              "  <thead>\n",
              "    <tr style=\"text-align: right;\">\n",
              "      <th></th>\n",
              "      <th>ID</th>\n",
              "      <th>radius</th>\n",
              "      <th>texture</th>\n",
              "      <th>perimeter</th>\n",
              "      <th>area</th>\n",
              "      <th>smoothness</th>\n",
              "      <th>compactness</th>\n",
              "      <th>concavity</th>\n",
              "      <th>concave points</th>\n",
              "      <th>symmetry</th>\n",
              "      <th>fractal dimension</th>\n",
              "    </tr>\n",
              "  </thead>\n",
              "  <tbody>\n",
              "    <tr>\n",
              "      <th>0</th>\n",
              "      <td>1000025</td>\n",
              "      <td>5</td>\n",
              "      <td>1</td>\n",
              "      <td>1</td>\n",
              "      <td>1</td>\n",
              "      <td>2</td>\n",
              "      <td>1</td>\n",
              "      <td>3</td>\n",
              "      <td>1</td>\n",
              "      <td>1</td>\n",
              "      <td>2</td>\n",
              "    </tr>\n",
              "    <tr>\n",
              "      <th>1</th>\n",
              "      <td>1002945</td>\n",
              "      <td>5</td>\n",
              "      <td>4</td>\n",
              "      <td>4</td>\n",
              "      <td>5</td>\n",
              "      <td>7</td>\n",
              "      <td>10</td>\n",
              "      <td>3</td>\n",
              "      <td>2</td>\n",
              "      <td>1</td>\n",
              "      <td>2</td>\n",
              "    </tr>\n",
              "    <tr>\n",
              "      <th>2</th>\n",
              "      <td>1015425</td>\n",
              "      <td>3</td>\n",
              "      <td>1</td>\n",
              "      <td>1</td>\n",
              "      <td>1</td>\n",
              "      <td>2</td>\n",
              "      <td>2</td>\n",
              "      <td>3</td>\n",
              "      <td>1</td>\n",
              "      <td>1</td>\n",
              "      <td>2</td>\n",
              "    </tr>\n",
              "    <tr>\n",
              "      <th>3</th>\n",
              "      <td>1016277</td>\n",
              "      <td>6</td>\n",
              "      <td>8</td>\n",
              "      <td>8</td>\n",
              "      <td>1</td>\n",
              "      <td>3</td>\n",
              "      <td>4</td>\n",
              "      <td>3</td>\n",
              "      <td>7</td>\n",
              "      <td>1</td>\n",
              "      <td>2</td>\n",
              "    </tr>\n",
              "    <tr>\n",
              "      <th>4</th>\n",
              "      <td>1017023</td>\n",
              "      <td>4</td>\n",
              "      <td>1</td>\n",
              "      <td>1</td>\n",
              "      <td>3</td>\n",
              "      <td>2</td>\n",
              "      <td>1</td>\n",
              "      <td>3</td>\n",
              "      <td>1</td>\n",
              "      <td>1</td>\n",
              "      <td>2</td>\n",
              "    </tr>\n",
              "  </tbody>\n",
              "</table>\n",
              "</div>"
            ],
            "text/plain": [
              "        ID   radius  texture  ...  concave points  symmetry   fractal dimension\n",
              "0  1000025        5        1  ...               1          1                  2\n",
              "1  1002945        5        4  ...               2          1                  2\n",
              "2  1015425        3        1  ...               1          1                  2\n",
              "3  1016277        6        8  ...               7          1                  2\n",
              "4  1017023        4        1  ...               1          1                  2\n",
              "\n",
              "[5 rows x 11 columns]"
            ]
          },
          "metadata": {
            "tags": []
          },
          "execution_count": 1
        }
      ]
    },
    {
      "cell_type": "markdown",
      "metadata": {
        "id": "26vzlcqmLWNt",
        "colab_type": "text"
      },
      "source": [
        "## Model training"
      ]
    },
    {
      "cell_type": "code",
      "metadata": {
        "id": "byzZ-V1eIo9q",
        "colab_type": "code",
        "outputId": "ad34c54b-a276-46d8-8cb9-ad74719b37aa",
        "colab": {
          "base_uri": "https://localhost:8080/",
          "height": 301
        }
      },
      "source": [
        "data.info()"
      ],
      "execution_count": 2,
      "outputs": [
        {
          "output_type": "stream",
          "text": [
            "<class 'pandas.core.frame.DataFrame'>\n",
            "RangeIndex: 699 entries, 0 to 698\n",
            "Data columns (total 11 columns):\n",
            "ID                   699 non-null int64\n",
            " radius              699 non-null int64\n",
            "texture              699 non-null int64\n",
            "perimeter            699 non-null int64\n",
            "area                 699 non-null int64\n",
            "smoothness           699 non-null int64\n",
            "compactness          699 non-null object\n",
            "concavity            699 non-null int64\n",
            "concave points       699 non-null int64\n",
            "symmetry             699 non-null int64\n",
            "fractal dimension    699 non-null int64\n",
            "dtypes: int64(10), object(1)\n",
            "memory usage: 60.1+ KB\n"
          ],
          "name": "stdout"
        }
      ]
    },
    {
      "cell_type": "code",
      "metadata": {
        "id": "3soxDs-0Io9v",
        "colab_type": "code",
        "colab": {}
      },
      "source": [
        "cancer = '/content/drive/My Drive/Colab Notebooks/nt_toolbox/data/breast-cancer-wisconsin.dat'\n",
        "data=np.loadtxt(cancer, delimiter=',', unpack=True)"
      ],
      "execution_count": 0,
      "outputs": []
    },
    {
      "cell_type": "markdown",
      "metadata": {
        "id": "-Plm58vLLAfA",
        "colab_type": "text"
      },
      "source": [
        "### Subgradient descent method"
      ]
    },
    {
      "cell_type": "code",
      "metadata": {
        "scrolled": true,
        "id": "oydvkWROIo9y",
        "colab_type": "code",
        "colab": {}
      },
      "source": [
        "#Converting the data to X and Y\n",
        "A=np.transpose(data[1:-1])[0:500]\n",
        "#print(A)\n",
        "(n,m)=A.shape\n",
        "Y=np.transpose(data[-1][0:500]-3*np.ones(n))\n",
        "#print(A.shape)\n",
        "T=[[0 for x in range(m+1)] for y in range(n)]\n",
        "X=np.array(T)\n",
        "#print(X.shape)\n",
        "#print(X[1][:].shape)\n",
        "for i in range(n):\n",
        "    for j in range(m):\n",
        "        X[i][j]=A[i][j]\n",
        "for i in range(n):\n",
        "    X[i][m]=1\n",
        "#print(X)"
      ],
      "execution_count": 0,
      "outputs": []
    },
    {
      "cell_type": "code",
      "metadata": {
        "id": "5bK5YQSHIo91",
        "colab_type": "code",
        "colab": {}
      },
      "source": [
        "#Choosing a subgradient\n",
        "def subdiff(w,matrix,u,col):\n",
        "    (n,m)= matrix.shape\n",
        "    v=0.00000001*w\n",
        "    for i in range(n):\n",
        "        c = col[i]*np.matmul(np.transpose(w),matrix[i][:])\n",
        "        if (1-c)<0:\n",
        "            u=np.zeros(m)\n",
        "        elif (1-c)>0:\n",
        "            u=-col[i]*np.transpose(matrix[i][:])\n",
        "        else:\n",
        "            u=-r.randrange(-1,1)*col[i]*np.transpose(matrix[i][:])\n",
        "        v +=1/n*u\n",
        "    return v"
      ],
      "execution_count": 0,
      "outputs": []
    },
    {
      "cell_type": "code",
      "metadata": {
        "id": "FG52cjhhIo93",
        "colab_type": "code",
        "colab": {}
      },
      "source": [
        "def fvalue(matrix,col,w):\n",
        "    (n,m)=matrix.shape\n",
        "    v=0.00000001/2*np.linalg.norm(w,ord=2)**2\n",
        "    for i in range(n):\n",
        "        v += 1/n*max(0, 1-col[i]*np.matmul(np.transpose(w),matrix[i][:]))\n",
        "    return v"
      ],
      "execution_count": 0,
      "outputs": []
    },
    {
      "cell_type": "code",
      "metadata": {
        "id": "YE3ZsJiFIo96",
        "colab_type": "code",
        "colab": {}
      },
      "source": [
        "## Subgradient descent method\n",
        "def regress(matrix,col):\n",
        "    (n,m)= matrix.shape\n",
        "    u = [1 for i in range (m)]\n",
        "    w = np.ones(m)\n",
        "    fbest=100*np.ones(10001)\n",
        "    a=np.ones(m)\n",
        "    value=np.ones(10000)\n",
        "    for i in range(10000):\n",
        "        v=subdiff(w,matrix,u,col) #choose a subgradient\n",
        "        w += -1/np.sqrt(i+1)*v# x^{k+1}=x^k-f(x^k)/(norm(v)^2)*v\n",
        "        value[i]=fvalue(X,Y,w) #compute f(x^{k+1})\n",
        "        if value[i]<fbest[i]:#store fbest\n",
        "            fbest[i+1]=value[i]\n",
        "            a+=-a+w\n",
        "        else:\n",
        "            fbest[i+1]=fbest[i]\n",
        "    return (a, w, value, fbest)"
      ],
      "execution_count": 0,
      "outputs": []
    },
    {
      "cell_type": "code",
      "metadata": {
        "id": "S71zXEnWIo98",
        "colab_type": "code",
        "outputId": "442be054-9c9b-404d-9408-5e8da6dc6139",
        "colab": {
          "base_uri": "https://localhost:8080/",
          "height": 636
        }
      },
      "source": [
        "start = timer()\n",
        "(wbest,gdm,value, fbest)=regress(X,Y)\n",
        "end = timer()\n",
        "print('time=',end - start)\n",
        "#print('x=',x)\n",
        "print('value=',value)\n",
        "print('fbest=',fbest)\n",
        "import matplotlib.pyplot as plt\n",
        "plt.plot(np.log(value))\n",
        "plt.xlabel('iteration ith')\n",
        "plt.ylabel('log(f(x_i))')\n",
        "plt.show()\n",
        "plt.plot(np.log(fbest))\n",
        "plt.xlabel('iteration ith')\n",
        "plt.ylabel('log(fbest_i')\n",
        "plt.show()"
      ],
      "execution_count": 8,
      "outputs": [
        {
          "output_type": "stream",
          "text": [
            "time= 54.506972975999815\n",
            "value= [ 1.63062817 11.67839187  5.41562166 ...  0.08512043  0.08511184\n",
            "  0.08509002]\n",
            "fbest= [1.00000000e+02 1.63062817e+00 1.63062817e+00 ... 8.50817392e-02\n",
            " 8.50817392e-02 8.50817392e-02]\n"
          ],
          "name": "stdout"
        },
        {
          "output_type": "display_data",
          "data": {
            "image/png": "[encoded data removed]",
            "text/plain": [
              "<Figure size 432x288 with 1 Axes>"
            ]
          },
          "metadata": {
            "tags": []
          }
        },
        {
          "output_type": "display_data",
          "data": {
            "image/png": "[encoded data removed]",
            "text/plain": [
              "<Figure size 432x288 with 1 Axes>"
            ]
          },
          "metadata": {
            "tags": []
          }
        }
      ]
    },
    {
      "cell_type": "markdown",
      "metadata": {
        "id": "XPdh67CtLjoJ",
        "colab_type": "text"
      },
      "source": [
        "### Stochastic subgradient descent method"
      ]
    },
    {
      "cell_type": "code",
      "metadata": {
        "id": "IqaiaHF-Io9_",
        "colab_type": "code",
        "colab": {}
      },
      "source": [
        "def subdiffsto(w,matrix,col):\n",
        "    (n,m)=X.shape\n",
        "    c = col*np.matmul(np.transpose(w),matrix)\n",
        "    if (1-c)<0:\n",
        "        u=np.zeros(m)\n",
        "    elif (1-c)>0:\n",
        "        u=-col*np.transpose(matrix)\n",
        "    else:\n",
        "        u=-r.randrange(-1,1)*col*np.transpose(matrix)\n",
        "    v =u+0.00000001*w\n",
        "    return v"
      ],
      "execution_count": 0,
      "outputs": []
    },
    {
      "cell_type": "code",
      "metadata": {
        "id": "2teVhAzaIo-D",
        "colab_type": "code",
        "colab": {}
      },
      "source": [
        "##Stochastic subgradient descent method\n",
        "def storegress(matrix,col):\n",
        "    (n,m)= matrix.shape\n",
        "    w=np.ones(m)\n",
        "    fbest=100*np.ones(100001)\n",
        "    a=np.ones(m)\n",
        "    value=np.ones(100000)\n",
        "    for i in range(100000):\n",
        "        j=r.randint(0,n-1) #choose randomly j in [0,n-1]\n",
        "        v=subdiffsto(w,matrix[j][:],col[j]) #choose a subgradient of |a_j'x-b_j|\n",
        "        w += -1/np.sqrt(i+1)*v #x^{k+1}=x^k-1/(norm(v)*sqrt(i+1))*v\n",
        "        value[i]=fvalue(X,Y,w)#compute f(x^{k+1})\n",
        "        if value[i]<fbest[i]:#store fbest\n",
        "            fbest[i+1]=value[i]\n",
        "            a=-a+w\n",
        "        else:\n",
        "            fbest[i+1]=fbest[i]\n",
        "    return (a, w, value, fbest)\n"
      ],
      "execution_count": 0,
      "outputs": []
    },
    {
      "cell_type": "code",
      "metadata": {
        "id": "44VzqkpqIo-F",
        "colab_type": "code",
        "outputId": "c255461b-be6e-4356-f061-d4a383b0fcae",
        "colab": {
          "base_uri": "https://localhost:8080/",
          "height": 636
        }
      },
      "source": [
        "start = timer()\n",
        "(wstobest,stogdm,value, fbest)=storegress(X,Y)\n",
        "end = timer()\n",
        "print('time=',end - start)\n",
        "#print('x=',x)\n",
        "print('value=',value)\n",
        "print('fbest=',fbest)\n",
        "import matplotlib.pyplot as plt\n",
        "plt.plot(np.log(value))\n",
        "plt.xlabel('iteration ith')\n",
        "plt.ylabel('log(f(x_i))')\n",
        "plt.show()\n",
        "plt.plot(np.log(fbest))\n",
        "plt.xlabel('iteration ith')\n",
        "plt.ylabel('log(fbest_i')\n",
        "plt.show()"
      ],
      "execution_count": 11,
      "outputs": [
        {
          "output_type": "stream",
          "text": [
            "time= 197.88739858999998\n",
            "value= [15.93800027 15.93800016 21.50658288 ...  0.09149504  0.09149504\n",
            "  0.09149504]\n",
            "fbest= [1.00000000e+02 1.59380003e+01 1.59380002e+01 ... 9.08569267e-02\n",
            " 9.08569267e-02 9.08569267e-02]\n"
          ],
          "name": "stdout"
        },
        {
          "output_type": "display_data",
          "data": {
            "image/png": "[encoded data removed]",
            "text/plain": [
              "<Figure size 432x288 with 1 Axes>"
            ]
          },
          "metadata": {
            "tags": []
          }
        },
        {
          "output_type": "display_data",
          "data": {
            "image/png": "[encoded data removed]",
            "text/plain": [
              "<Figure size 432x288 with 1 Axes>"
            ]
          },
          "metadata": {
            "tags": []
          }
        }
      ]
    },
    {
      "cell_type": "markdown",
      "metadata": {
        "id": "8yRmOCkwLxUV",
        "colab_type": "text"
      },
      "source": [
        "## Model testing"
      ]
    },
    {
      "cell_type": "code",
      "metadata": {
        "id": "jIBmr7hSIo-I",
        "colab_type": "code",
        "outputId": "79903cb0-0020-4288-d307-bc929998c8b8",
        "colab": {
          "base_uri": "https://localhost:8080/",
          "height": 34
        }
      },
      "source": [
        "B=np.transpose(data[1:-1])[500:-1]\n",
        "(n,m)=B.shape\n",
        "print(B.shape)\n",
        "C=np.transpose(data[-1])[500:-1]\n",
        "Test=[[0 for x in range(m+1)] for y in range(n)]\n",
        "Xtest=np.array(Test)\n",
        "for i in range(n):\n",
        "    for j in range(m):\n",
        "        Xtest[i][j]=B[i][j]\n",
        "for i in range(n):\n",
        "    Xtest[i][m]=1\n",
        "#prettyP(Xtest)"
      ],
      "execution_count": 12,
      "outputs": [
        {
          "output_type": "stream",
          "text": [
            "(182, 9)\n"
          ],
          "name": "stdout"
        }
      ]
    },
    {
      "cell_type": "code",
      "metadata": {
        "id": "BympkUWxIo-K",
        "colab_type": "code",
        "outputId": "f497e04c-344e-4923-cf8f-f2ad9c2ecc84",
        "colab": {
          "base_uri": "https://localhost:8080/",
          "height": 336
        }
      },
      "source": [
        "y1=np.matmul(Xtest,gdm)\n",
        "y2=np.matmul(Xtest,stogdm)\n",
        "for i in range(n):\n",
        "    if y1[i]>0:\n",
        "        y1[i]=4\n",
        "    else:\n",
        "        y1[i]=2\n",
        "for i in range(n):\n",
        "    if y2[i]>0:\n",
        "        y2[i]=4\n",
        "    else:\n",
        "        y2[i]=2\n",
        "print(y1)\n",
        "print(y2)\n",
        "count1=0\n",
        "for i in range(n):\n",
        "    if y1[i]==C[i]:\n",
        "        count1+=1\n",
        "eff1=count1/n\n",
        "count2=0\n",
        "for i in range(n):\n",
        "    if y2[i]==C[i]:\n",
        "        count2+=1\n",
        "eff2=count2/n\n",
        "print('efficiency1=',eff1)\n",
        "print('efficiency2=',eff2)"
      ],
      "execution_count": 13,
      "outputs": [
        {
          "output_type": "stream",
          "text": [
            "[4. 2. 2. 2. 4. 2. 2. 4. 4. 2. 2. 2. 2. 2. 2. 4. 2. 2. 2. 2. 2. 2. 2. 2.\n",
            " 2. 2. 2. 2. 2. 2. 2. 4. 2. 2. 4. 2. 2. 2. 2. 2. 2. 2. 2. 2. 2. 2. 2. 2.\n",
            " 2. 2. 4. 2. 2. 4. 4. 4. 4. 2. 2. 4. 2. 2. 2. 2. 2. 2. 4. 4. 2. 2. 2. 4.\n",
            " 2. 4. 2. 4. 4. 4. 2. 4. 2. 2. 2. 2. 2. 2. 2. 2. 4. 4. 4. 2. 2. 4. 2. 4.\n",
            " 4. 4. 2. 2. 2. 2. 2. 2. 2. 2. 2. 2. 2. 2. 4. 2. 2. 2. 2. 2. 2. 4. 2. 2.\n",
            " 4. 2. 2. 2. 2. 2. 2. 2. 2. 2. 2. 2. 4. 2. 2. 2. 2. 2. 2. 2. 2. 4. 4. 2.\n",
            " 2. 2. 2. 2. 2. 2. 2. 2. 4. 4. 4. 2. 2. 2. 2. 2. 2. 2. 2. 2. 4. 4. 2. 2.\n",
            " 2. 2. 2. 2. 2. 2. 2. 4. 2. 2. 2. 2. 4. 4.]\n",
            "[4. 2. 2. 2. 4. 2. 2. 4. 4. 2. 2. 2. 2. 2. 2. 4. 2. 2. 2. 2. 2. 2. 2. 2.\n",
            " 2. 2. 2. 2. 2. 2. 2. 4. 2. 2. 4. 2. 2. 2. 2. 2. 2. 2. 2. 2. 2. 2. 2. 2.\n",
            " 2. 2. 4. 2. 2. 4. 4. 4. 4. 2. 2. 4. 2. 2. 2. 2. 2. 2. 4. 4. 2. 2. 2. 4.\n",
            " 2. 4. 2. 4. 4. 4. 2. 4. 2. 2. 2. 2. 2. 2. 2. 2. 4. 4. 4. 2. 2. 4. 2. 4.\n",
            " 4. 4. 2. 2. 2. 2. 2. 2. 2. 4. 2. 2. 2. 2. 4. 2. 2. 2. 2. 2. 2. 4. 2. 2.\n",
            " 4. 2. 2. 2. 2. 2. 2. 2. 2. 2. 2. 2. 4. 2. 2. 2. 2. 2. 2. 2. 2. 2. 4. 2.\n",
            " 2. 2. 2. 2. 2. 2. 2. 2. 4. 4. 4. 2. 2. 2. 2. 2. 2. 2. 2. 2. 4. 4. 2. 2.\n",
            " 2. 2. 2. 2. 2. 2. 2. 4. 2. 2. 2. 2. 4. 4.]\n",
            "efficiency1= 0.9945054945054945\n",
            "efficiency2= 0.9945054945054945\n"
          ],
          "name": "stdout"
        }
      ]
    },
    {
      "cell_type": "code",
      "metadata": {
        "id": "q7845_dBIo-M",
        "colab_type": "code",
        "colab": {}
      },
      "source": [
        ""
      ],
      "execution_count": 0,
      "outputs": []
    }
  ]
}