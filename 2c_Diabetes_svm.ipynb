{
  "nbformat": 4,
  "nbformat_minor": 0,
  "metadata": {
    "celltoolbar": "Raw Cell Format",
    "kernelspec": {
      "display_name": "Python 3",
      "language": "python",
      "name": "python3"
    },
    "language_info": {
      "codemirror_mode": {
        "name": "ipython",
        "version": 3
      },
      "file_extension": ".py",
      "mimetype": "text/x-python",
      "name": "python",
      "nbconvert_exporter": "python",
      "pygments_lexer": "ipython3",
      "version": "3.7.1"
    },
    "colab": {
      "name": "2c.Diabetes_svm.ipynb",
      "version": "0.3.2",
      "provenance": []
    }
  },
  "cells": [
    {
      "cell_type": "code",
      "metadata": {
        "id": "c4RhgLfrAJRG",
        "colab_type": "code",
        "colab": {
          "base_uri": "https://localhost:8080/",
          "height": 141
        },
        "outputId": "b2234d3f-552d-43b1-d916-364a7dfc7fee"
      },
      "source": [
        "from google.colab import drive\n",
        "drive.mount('/content/drive')\n",
        "#from drive import nt_toolbox\n",
        "#from nt_toolbox.general import *\n",
        "#from nt_toolbox.signal import *\n",
        "import numpy as np\n",
        "import random as r\n",
        "from pylab import array\n",
        "%pylab inline\n",
        "%matplotlib inline\n",
        "%load_ext autoreload\n",
        "%autoreload 2\n",
        "import os\n",
        "import numpy as np\n",
        "import random as r\n",
        "from timeit import default_timer as timer"
      ],
      "execution_count": 17,
      "outputs": [
        {
          "output_type": "stream",
          "text": [
            "Drive already mounted at /content/drive; to attempt to forcibly remount, call drive.mount(\"/content/drive\", force_remount=True).\n",
            "Populating the interactive namespace from numpy and matplotlib\n",
            "The autoreload extension is already loaded. To reload it, use:\n",
            "  %reload_ext autoreload\n"
          ],
          "name": "stdout"
        },
        {
          "output_type": "stream",
          "text": [
            "/usr/local/lib/python3.6/dist-packages/IPython/core/magics/pylab.py:161: UserWarning: pylab import has clobbered these variables: ['convolve']\n",
            "`%matplotlib` prevents importing * from pylab and numpy\n",
            "  \"\\n`%matplotlib` prevents importing * from pylab and numpy\"\n"
          ],
          "name": "stderr"
        }
      ]
    },
    {
      "cell_type": "markdown",
      "metadata": {
        "id": "nQ7n1RGeByl4",
        "colab_type": "text"
      },
      "source": [
        "## Model training"
      ]
    },
    {
      "cell_type": "code",
      "metadata": {
        "id": "HJcW6wH_AJRJ",
        "colab_type": "code",
        "colab": {
          "base_uri": "https://localhost:8080/",
          "height": 215
        },
        "outputId": "0510587b-ea54-4b06-fe47-e74857383e94"
      },
      "source": [
        "import pandas as pd\n",
        "data= pd.read_csv('/content/drive/My Drive/Colab Notebooks/nt_toolbox/data/diabetes.csv',sep=\" \", header=None)\n",
        "print(data.shape)\n",
        "data.head() # Preview Data"
      ],
      "execution_count": 18,
      "outputs": [
        {
          "output_type": "stream",
          "text": [
            "(768, 10)\n"
          ],
          "name": "stdout"
        },
        {
          "output_type": "execute_result",
          "data": {
            "text/html": [
              "<div>\n",
              "<style scoped>\n",
              "    .dataframe tbody tr th:only-of-type {\n",
              "        vertical-align: middle;\n",
              "    }\n",
              "\n",
              "    .dataframe tbody tr th {\n",
              "        vertical-align: top;\n",
              "    }\n",
              "\n",
              "    .dataframe thead th {\n",
              "        text-align: right;\n",
              "    }\n",
              "</style>\n",
              "<table border=\"1\" class=\"dataframe\">\n",
              "  <thead>\n",
              "    <tr style=\"text-align: right;\">\n",
              "      <th></th>\n",
              "      <th>0</th>\n",
              "      <th>1</th>\n",
              "      <th>2</th>\n",
              "      <th>3</th>\n",
              "      <th>4</th>\n",
              "      <th>5</th>\n",
              "      <th>6</th>\n",
              "      <th>7</th>\n",
              "      <th>8</th>\n",
              "      <th>9</th>\n",
              "    </tr>\n",
              "  </thead>\n",
              "  <tbody>\n",
              "    <tr>\n",
              "      <th>0</th>\n",
              "      <td>-1</td>\n",
              "      <td>NaN</td>\n",
              "      <td>6.0</td>\n",
              "      <td>148.0</td>\n",
              "      <td>72.0</td>\n",
              "      <td>35.0</td>\n",
              "      <td>0.0</td>\n",
              "      <td>33.599998</td>\n",
              "      <td>0.627</td>\n",
              "      <td>50.0</td>\n",
              "    </tr>\n",
              "    <tr>\n",
              "      <th>1</th>\n",
              "      <td>1</td>\n",
              "      <td>NaN</td>\n",
              "      <td>1.0</td>\n",
              "      <td>85.0</td>\n",
              "      <td>66.0</td>\n",
              "      <td>29.0</td>\n",
              "      <td>0.0</td>\n",
              "      <td>26.600000</td>\n",
              "      <td>0.351</td>\n",
              "      <td>31.0</td>\n",
              "    </tr>\n",
              "    <tr>\n",
              "      <th>2</th>\n",
              "      <td>-1</td>\n",
              "      <td>NaN</td>\n",
              "      <td>8.0</td>\n",
              "      <td>183.0</td>\n",
              "      <td>64.0</td>\n",
              "      <td>0.0</td>\n",
              "      <td>0.0</td>\n",
              "      <td>23.299999</td>\n",
              "      <td>0.672</td>\n",
              "      <td>32.0</td>\n",
              "    </tr>\n",
              "    <tr>\n",
              "      <th>3</th>\n",
              "      <td>1</td>\n",
              "      <td>NaN</td>\n",
              "      <td>1.0</td>\n",
              "      <td>89.0</td>\n",
              "      <td>66.0</td>\n",
              "      <td>23.0</td>\n",
              "      <td>94.0</td>\n",
              "      <td>28.100000</td>\n",
              "      <td>0.167</td>\n",
              "      <td>21.0</td>\n",
              "    </tr>\n",
              "    <tr>\n",
              "      <th>4</th>\n",
              "      <td>-1</td>\n",
              "      <td>NaN</td>\n",
              "      <td>0.0</td>\n",
              "      <td>137.0</td>\n",
              "      <td>40.0</td>\n",
              "      <td>35.0</td>\n",
              "      <td>168.0</td>\n",
              "      <td>43.099998</td>\n",
              "      <td>2.288</td>\n",
              "      <td>33.0</td>\n",
              "    </tr>\n",
              "  </tbody>\n",
              "</table>\n",
              "</div>"
            ],
            "text/plain": [
              "   0   1    2      3     4     5      6          7      8     9\n",
              "0 -1 NaN  6.0  148.0  72.0  35.0    0.0  33.599998  0.627  50.0\n",
              "1  1 NaN  1.0   85.0  66.0  29.0    0.0  26.600000  0.351  31.0\n",
              "2 -1 NaN  8.0  183.0  64.0   0.0    0.0  23.299999  0.672  32.0\n",
              "3  1 NaN  1.0   89.0  66.0  23.0   94.0  28.100000  0.167  21.0\n",
              "4 -1 NaN  0.0  137.0  40.0  35.0  168.0  43.099998  2.288  33.0"
            ]
          },
          "metadata": {
            "tags": []
          },
          "execution_count": 18
        }
      ]
    },
    {
      "cell_type": "code",
      "metadata": {
        "id": "85sADvIhAJRM",
        "colab_type": "code",
        "colab": {}
      },
      "source": [
        "diabetes = '/content/drive/My Drive/Colab Notebooks/nt_toolbox/data/diabetes.csv'\n",
        "data=np.loadtxt(diabetes, unpack=True)"
      ],
      "execution_count": 0,
      "outputs": []
    },
    {
      "cell_type": "markdown",
      "metadata": {
        "id": "WvAwUnSLBENt",
        "colab_type": "text"
      },
      "source": [
        "### Subgradient descent method"
      ]
    },
    {
      "cell_type": "code",
      "metadata": {
        "scrolled": true,
        "id": "pMtzAHFcAJRP",
        "colab_type": "code",
        "colab": {}
      },
      "source": [
        "#Converting the data to X and Y\n",
        "A=np.transpose(data[1:])[0:500]\n",
        "#print(A)\n",
        "(n,m)=A.shape\n",
        "Y=np.transpose(data[0])[0:500]\n",
        "#print(A.shape)\n",
        "T=[[0 for x in range(m+1)] for y in range(n)]\n",
        "X=np.array(T)\n",
        "#print(X.shape)\n",
        "#print(X[1][:].shape)\n",
        "for i in range(n):\n",
        "    for j in range(m):\n",
        "        X[i][j]=A[i][j]\n",
        "for i in range(n):\n",
        "    X[i][m]=1\n",
        "#print(X)"
      ],
      "execution_count": 0,
      "outputs": []
    },
    {
      "cell_type": "code",
      "metadata": {
        "id": "gldxMqL9AJRR",
        "colab_type": "code",
        "colab": {}
      },
      "source": [
        "#Choosing a subgradient\n",
        "def subdiff(w,matrix,u,col):\n",
        "    (n,m)= matrix.shape\n",
        "    v=0.00000001*w\n",
        "    for i in range(n):\n",
        "        c = col[i]*np.matmul(np.transpose(w),matrix[i][:])\n",
        "        if (1-c)<0:\n",
        "            u=np.zeros(m)\n",
        "        elif (1-c)>0:\n",
        "            u=-col[i]*np.transpose(matrix[i][:])\n",
        "        else:\n",
        "            u=-r.randrange(-1,1)*col[i]*np.transpose(matrix[i][:])\n",
        "        v +=1/n*u\n",
        "    return v"
      ],
      "execution_count": 0,
      "outputs": []
    },
    {
      "cell_type": "code",
      "metadata": {
        "id": "Ff_e_MM9AJRT",
        "colab_type": "code",
        "colab": {}
      },
      "source": [
        "def fvalue(matrix,col,w):\n",
        "    (n,m)=matrix.shape\n",
        "    v=0.00000001/2*np.linalg.norm(w,ord=2)**2\n",
        "    for i in range(n):\n",
        "        v += 1/n*max(0, 1-col[i]*np.matmul(np.transpose(w),matrix[i][:]))\n",
        "    return v"
      ],
      "execution_count": 0,
      "outputs": []
    },
    {
      "cell_type": "code",
      "metadata": {
        "id": "3WY9UmKaAJRV",
        "colab_type": "code",
        "colab": {}
      },
      "source": [
        "## Subgradient descent method\n",
        "def regress(matrix,col):\n",
        "    (n,m)= matrix.shape\n",
        "    u = [1 for i in range (m)]\n",
        "    w = np.ones(m)\n",
        "    fbest=100*np.ones(1001)\n",
        "    a=np.ones(m)\n",
        "    value=np.ones(1000)\n",
        "    for i in range(1000):\n",
        "        v=subdiff(w,matrix,u,col) #choose a subgradient\n",
        "        w += -1/(np.linalg.norm(v,ord=2)*np.sqrt(i+1))*v# x^{k+1}=x^k-f(x^k)/(norm(v)^2)*v\n",
        "        value[i]=fvalue(X,Y,w) #compute f(x^{k+1})\n",
        "        if value[i]<fbest[i]:#store fbest\n",
        "            fbest[i+1]=value[i]\n",
        "            a+=-a+w\n",
        "        else:\n",
        "            fbest[i+1]=fbest[i]\n",
        "    return (a, w, value, fbest)"
      ],
      "execution_count": 0,
      "outputs": []
    },
    {
      "cell_type": "code",
      "metadata": {
        "id": "xfMRX9jOAJRX",
        "colab_type": "code",
        "colab": {
          "base_uri": "https://localhost:8080/",
          "height": 1000
        },
        "outputId": "ad77ea5f-42c4-45d8-f04b-ad0b1c3c2d2e"
      },
      "source": [
        "start = timer()\n",
        "(wbest,gdm,value, fbest)=regress(X,Y)\n",
        "end = timer()\n",
        "print('time=',end - start)\n",
        "#print('x=',x)\n",
        "print('value=',value)\n",
        "print('fbest=',fbest)\n",
        "import matplotlib.pyplot as plt\n",
        "plt.plot(np.log(value))\n",
        "plt.xlabel('iteration ith')\n",
        "plt.ylabel('log(f(x_i))')\n",
        "plt.show()\n",
        "plt.plot(np.log(fbest))\n",
        "plt.xlabel('iteration ith')\n",
        "plt.ylabel('log(fbest_i')\n",
        "plt.show()"
      ],
      "execution_count": 24,
      "outputs": [
        {
          "output_type": "stream",
          "text": [
            "time= 6.775419491999969\n",
            "value= [79.05017572 28.81630101 15.03647004 23.35143997 11.44737258 20.57955624\n",
            "  9.70775103 18.76476485  8.6609461  17.47721735  7.98120199 16.46263659\n",
            "  7.47966344 15.63630006  7.0832669  14.92475888  6.75838398 14.28961702\n",
            "  6.4825063  13.72206414  6.23929474 13.20233672  6.02277633 12.72475066\n",
            "  5.82654799 12.28491211  5.64743892 11.86830682  5.48349058 11.49825422\n",
            "  5.33302561 11.1364588   5.19440846 10.80844745  5.06306995 10.50826803\n",
            "  4.94152831 10.24409964  4.82603959 10.0001118   4.71766196  9.77234231\n",
            "  4.61557534  9.55877295  4.51854076  9.35648486  4.42685729  9.17181936\n",
            "  4.34039651  8.99086481  4.25748589  8.82254919  4.1787205   8.65994459\n",
            "  4.10402222  8.51060793  4.03276027  8.36433909  3.96400482  8.22731577\n",
            "  3.8985127   8.09589938  3.83588568  7.97146618  3.77512424  7.85096048\n",
            "  3.7165187   7.73505647  3.6599283   7.62472806  3.60586311  7.52076732\n",
            "  3.55357153  7.4208477   3.50279638  7.32302276  3.45379363  7.23076055\n",
            "  3.40662207  7.14209887  3.36060872  7.05569585  3.31614691  6.97562638\n",
            "  3.27385696  6.89927713  3.23299512  6.82563159  3.19323412  6.75520743\n",
            "  3.15477756  6.68901432  3.11758113  6.62480235  3.08145982  6.56205834\n",
            "  3.04638564  6.50134905  3.01238791  6.44138349  2.97903355  6.38269093\n",
            "  2.94669894  6.32600957  2.9149699   6.26989017  2.88405367  6.21530261\n",
            "  2.85385856  6.16279021  2.82453567  6.11354171  2.79585781  6.06563459\n",
            "  2.76782485  6.01863478  2.74034421  5.97268271  2.71358827  5.92862469\n",
            "  2.68734608  5.88503045  2.6616491   5.84243559  2.6364128   5.80111169\n",
            "  2.61174026  5.7608113   2.58750367  5.72119131  2.56367246  5.68222786\n",
            "  2.54053526  5.64414629  2.51816482  5.60729937  2.49580855  5.57107031\n",
            "  2.47383509  5.53629883  2.45231725  5.50163496  2.43116338  5.46758511\n",
            "  2.41051658  5.43385605  2.39117929  5.40107114  2.37149654  5.36823513\n",
            "  2.35299405  5.33699747  2.33353206  5.30648807  2.31464404  5.27691308\n",
            "  2.2961197   5.24775149  2.27787609  5.21929192  2.25993855  5.19113414\n",
            "  2.24223871  5.1636852   2.2248224   5.13671322  2.2078387   5.11042036\n",
            "  2.19111546  5.08447096  2.1746093   5.05903641  2.15835782  5.03432568\n",
            "  2.1423866   5.00992831  2.12663051  4.98612241  2.11113242  4.96264667\n",
            "  2.0958201   4.9393205   2.08074489  4.91658956  2.06594966  4.89482429\n",
            "  2.05150021  4.87296694  2.03735303  4.85165438  2.02341706  4.83092998\n",
            "  2.00989614  4.81019478  1.9965416   4.78996798  1.98338296  4.76992511\n",
            "  1.97052357  4.75057938  1.95794111  4.73144325  1.94548469  4.71277367\n",
            "  1.93320114  4.69456965  1.92106341  4.67656589  1.90909476  4.6585951\n",
            "  1.89727769  4.64069411  1.8858569   4.62291959  1.87435629  4.60548845\n",
            "  1.86314077  4.58797439  1.85234851  4.57041465  1.84230209  4.55326949\n",
            "  1.8316075   4.53709437  1.82115639  4.52122344  1.8106713   4.50551101\n",
            "  1.80038403  4.48991829  1.79022779  4.47497729  1.7802858   4.46012628\n",
            "  1.77042982  4.44541972  1.76072785  4.43060877  1.75120972  4.41614862\n",
            "  1.74170736  4.40182475  1.73241928  4.38804221  1.72323716  4.37447549\n",
            "  1.71414729  4.36097944  1.70515468  4.34766366  1.69629031  4.33438706\n",
            "  1.6875308   4.3211385   1.67888195  4.3080964   1.67031335  4.29507181\n",
            "  1.66186627  4.28238588  1.65355085  4.26994606  1.64535842  4.25768399\n",
            "  1.63732803  4.24554616  1.62938123  4.23362929  1.62152727  4.22181448\n",
            "  1.61377116  4.20985726  1.60616973  4.19838747  1.59858334  4.18713179\n",
            "  1.59121321  4.17639537  1.58406105  4.16583893  1.57704539  4.15548928\n",
            "  1.57006074  4.14534419  1.56314651  4.1351683   1.55628941  4.12520432\n",
            "  1.54946943  4.11534436  1.5427059   4.10556569  1.53599791  4.09586697\n",
            "  1.52934454  4.08624694  1.5227656   4.07668838  1.51623626  4.06720608\n",
            "  1.50976406  4.05774466  1.50338928  4.04865709  1.49706845  4.03955455\n",
            "  1.49084768  4.03049645  1.484784    4.02140716  1.47874046  4.01251593\n",
            "  1.47269628  4.00362877  1.4666929   3.99480857  1.46073459  3.98605601\n",
            "  1.45483514  3.97742942  1.44900013  3.96879108  1.44322686  3.9602202\n",
            "  1.43753488  3.951713    1.43186509  3.94335276  1.42631432  3.9349839\n",
            "  1.42079352  3.92669713  1.41542556  3.91837542  1.41039328  3.90956736\n",
            "  1.40600611  3.89966541  1.40277414  3.88969596  1.39855153  3.88137636\n",
            "  1.39358711  3.87370432  1.38867871  3.86602942  1.38382071  3.85846272\n",
            "  1.37907712  3.85095846  1.37431557  3.84357773  1.36958776  3.83624699\n",
            "  1.36489187  3.82896557  1.36022747  3.82173282  1.35559522  3.81460035\n",
            "  1.35101092  3.8075419   1.34646811  3.80044386  1.34196286  3.79347792\n",
            "  1.33751015  3.78637572  1.33315881  3.77949994  1.32876488  3.77271572\n",
            "  1.32440628  3.76595613  1.32008699  3.75923957  1.31579511  3.75256549\n",
            "  1.31155919  3.74592879  1.30735511  3.73933353  1.30321331  3.73269985\n",
            "  1.29913553  3.72607154  1.29510019  3.71948346  1.29108927  3.71293513\n",
            "  1.28714304  3.70655148  1.28323618  3.70020631  1.27939193  3.69390232\n",
            "  1.27556787  3.68773553  1.27182473  3.68162285  1.26810351  3.67554655\n",
            "  1.26442587  3.66958171  1.26077607  3.66365222  1.25714827  3.65774587\n",
            "  1.25358141  3.65190977  1.25005984  3.64613918  1.24654024  3.64040395\n",
            "  1.24308057  3.63458052  1.23973352  3.62862291  1.23665159  3.62231602\n",
            "  1.23386151  3.61440207  1.23296212  3.60616485  1.23062232  3.59776194\n",
            "  1.22979798  3.58966159  1.22727229  3.58076838  1.22739589  3.57274098\n",
            "  1.22407932  3.56555492  1.22311715  3.55845218  1.21999369  3.55039128\n",
            "  1.22008495  3.54335467  1.21619915  3.5381375   1.213398    3.52991672\n",
            "  1.21399191  3.52184221  1.21092079  3.51315944  1.2121819   3.50466872\n",
            "  1.20912368  3.49770604  1.20840958  3.48928402  1.20755077  3.47939602\n",
            "  1.20833445  3.47104139  1.20587702  3.46390558  1.20513392  3.45561706\n",
            "  1.20441592  3.44597712  1.20513035  3.43775348  1.20293113  3.43128742\n",
            "  1.20142366  3.42383054  1.20081625  3.4137024   1.20225046  3.4041451\n",
            "  1.20125992  3.39729267  1.19972851  3.39126058  1.19767098  3.38554137\n",
            "  1.19575673  3.37996826  1.19371499  3.37469848  1.19138071  3.36984116\n",
            "  1.18905299  3.36487271  1.18671541  3.3594489   1.18517621  3.35331455\n",
            "  1.18361293  3.34749331  1.18183996  3.34151495  1.1804823   3.33530592\n",
            "  1.179089    3.32853354  1.17843801  3.321733    1.17712456  3.31469114\n",
            "  1.17690777  3.30643152  1.1771449   3.29901231  1.17600169  3.29217688\n",
            "  1.17556684  3.28480971  1.17512338  3.27716342  1.17506932  3.26984743\n",
            "  1.17427661  3.26283996  1.17390805  3.25650689  1.17235392  3.25126661\n",
            "  1.17062036  3.24515627  1.1703599   3.23761633  1.17028226  3.23128919\n",
            "  1.16874314  3.22594596  1.16737879  3.21987379  1.16683775  3.21243226\n",
            "  1.16712423  3.20525439  1.16637383  3.19957609  1.16491013  3.19358963\n",
            "  1.1645584   3.18623476  1.16474164  3.18013189  1.1631347   3.17513447\n",
            "  1.16180346  3.16928124  1.16137127  3.16346478  1.16006581  3.15893684\n",
            "  1.15802995  3.15490062  1.1561163   3.15040771  1.15485678  3.14483377\n",
            "  1.15415333  3.13896784  1.15344772  3.13342422  1.15220698  3.12869659\n",
            "  1.15072118  3.12392924  1.14942508  3.11921963  1.14804039  3.11450289\n",
            "  1.1466817   3.10993774  1.14522186  3.10527242  1.14396938  3.10072258\n",
            "  1.14243448  3.09610798  1.14130667  3.08986776  1.14181625  3.08212156\n",
            "  1.14245528  3.07462626  1.14280283  3.06825306  1.14212275  3.06335493\n",
            "  1.14080114  3.05943957  1.13881749  3.05575926  1.13723388  3.05190885\n",
            "  1.13555774  3.0474521   1.13461724  3.04328544  1.1327888   3.03915767\n",
            "  1.13165632  3.03504324  1.13006368  3.03051706  1.12922466  3.02641127\n",
            "  1.12739708  3.02295011  1.1256057   3.01955387  1.12385286  3.0161187\n",
            "  1.12212629  3.01249414  1.12071564  3.00840153  1.11937666  3.00451072\n",
            "  1.11795063  3.00045569  1.11666483  2.99658131  1.11521726  2.99220911\n",
            "  1.11442858  2.98802248  1.11288415  2.98368351  1.1122093   2.97917509\n",
            "  1.11098675  2.9745519   1.11040363  2.96959964  1.10975234  2.96252525\n",
            "  1.11160892  2.95566633  1.11076933  2.95138894  1.10965477  2.94768798\n",
            "  1.10817443  2.94404917  1.10696523  2.94037692  1.10553927  2.93645261\n",
            "  1.10457852  2.9328029   1.10301693  2.9292582   1.10182737  2.92563346\n",
            "  1.10044464  2.92173018  1.09951927  2.91776363  1.09842441  2.91387293\n",
            "  1.09734179  2.90992962  1.09632566  2.90606261  1.09518526  2.90214301\n",
            "  1.09424756  2.89829936  1.09304937  2.89440316  1.09218979  2.89058255\n",
            "  1.09093511  2.88702838  1.08974533  2.88350773  1.08851942  2.87968645\n",
            "  1.0876699   2.87591179  1.08636835  2.87212415  1.08571048  2.86837087\n",
            "  1.08432756  2.86459409  1.08367674  2.86107516  1.08203525  2.85791153\n",
            "  1.08096793  2.8544291   1.07970718  2.85100215  1.07871503  2.84753061\n",
            "  1.07737848  2.84413378  1.07648112  2.8406769   1.07514619  2.8370076\n",
            "  1.0745015   2.83357087  1.07296085  2.83057302  1.07173019  2.82747657\n",
            "  1.07034401  2.82429162  1.06931369  2.8209089   1.06812325  2.81723983\n",
            "  1.06750154  2.8130337   1.06689422  2.80814308  1.06724653  2.80215194\n",
            "  1.06780849  2.79617791  1.06830943  2.79034606  1.06863933  2.78498227\n",
            "  1.06876461  2.78031206  1.06825718  2.7766446   1.06733868  2.77326165\n",
            "  1.0664317   2.7701875   1.06507951  2.76730089  1.06398874  2.7644076\n",
            "  1.0626503   2.76138241  1.06176637  2.75834306  1.06043942  2.7553371\n",
            "  1.05949495  2.75232419  1.05831899  2.74936191  1.05728014  2.74654547\n",
            "  1.05592374  2.74396956  1.0545846   2.74134349  1.05335137  2.73859404\n",
            "  1.05219416  2.73580973  1.05098197  2.73307603  1.04980658  2.73030749\n",
            "  1.04862901  2.72758937  1.04744669  2.72479878  1.04633712  2.72205119\n",
            "  1.04517076  2.71927609  1.04407644  2.71649008  1.04295347  2.71374353\n",
            "  1.04180322  2.7112215   1.0404684   2.7088663   1.03911348  2.7065181\n",
            "  1.03776259  2.70417686  1.03641568  2.7018486   1.03510164  2.69946079\n",
            "  1.03380423  2.69714593  1.03249538  2.69486636  1.03118581  2.6925935\n",
            "  1.02988009  2.69032731  1.0285782   2.68806881  1.02727243  2.68582601\n",
            "  1.02597812  2.6835796   1.02468963  2.68136494  1.02340542  2.67915681\n",
            "  1.02211741  2.67696608  1.02084064  2.67477064  1.01956757  2.67258154\n",
            "  1.01831996  2.67025131  1.01726176  2.66771671  1.01611457  2.6654055\n",
            "  1.01490869  2.6630376   1.01382643  2.66047013  1.01282532  2.65795706\n",
            "  1.01172247  2.65540278  1.01075424  2.65290271  1.00963135  2.65036148\n",
            "  1.00869597  2.64787428  1.00755371  2.64560684  1.00636627  2.64327832\n",
            "  1.0053651   2.64070518  1.00441763  2.63824328  1.00331011  2.63568291\n",
            "  1.00247766  2.63323345  1.00127883  2.6310651   1.00009077  2.62877288\n",
            "  0.99917074  2.62623761  0.99815838  2.62395722  0.99699495  2.62161328\n",
            "  0.99603177  2.61920036  0.994997    2.61682493  0.99399219  2.61456782\n",
            "  0.99285853  2.61220417  0.99195717  2.60935037  0.9914188   2.60686375\n",
            "  0.99020231  2.60462943  0.98927935  2.60215465  0.98832782  2.59993154\n",
            "  0.98718399  2.59760249  0.98640851  2.5944979   0.98607018  2.59137577\n",
            "  0.9853561   2.58828419  0.98504109  2.58493383  0.98459783  2.58185514\n",
            "  0.98403988  2.57942651  0.9828729   2.57732449  0.98189561  2.57503989\n",
            "  0.98093098  2.5728181   0.97993977  2.57054434  0.97902671  2.56766375\n",
            "  0.97880404  2.56436631  0.9783046   2.56149775  0.97766074  2.55911341\n",
            "  0.97658949  2.55705259  0.9756054   2.5549484   0.97455018  2.55289762\n",
            "  0.97357728  2.55080351  0.97252164  2.54876267  0.97155968  2.54667856\n",
            "  0.97050375  2.54464755  0.96955249  2.54257333  0.96849641  2.54055206\n",
            "  0.96755559  2.53848762  0.96650536  2.53618733  0.96585073  2.53348927\n",
            "  0.9653733   2.52980157  0.96571525  2.52665373  0.96472835  2.5238975\n",
            "  0.96467013  2.52076152  0.96409307  2.51763897  0.96407733  2.51461412\n",
            "  0.9633859   2.51150326  0.96352198  2.50758265  0.96378006  2.50187519\n",
            "  0.96585393  2.49681982  0.96564471  2.49373203  0.96527431  2.48985336\n",
            "  0.96591077  2.48599361  0.96578311  2.48211294  0.9661889   2.47905591\n",
            "  0.96544261  2.47614154  0.96550203  2.47308757  0.96493132  2.47018403\n",
            "  0.96483655  2.46769755  0.96383538  2.46551793  0.96332415  2.46326095\n",
            "  0.96246181  2.46085144  0.96213207  2.45860374  0.96111107  2.45645622\n",
            "  0.96066886  2.45407164  0.95998792  2.45166036  0.95959907  2.44908016\n",
            "  0.9591605   2.44569859  0.95970333  2.44190802  0.95990744  2.437895\n",
            "  0.96055039  2.43411026  0.96066002  2.43077     0.96069533  2.42793856\n",
            "  0.96027624  2.42463761  0.96083013  2.4214225   0.96040317  2.41822157\n",
            "  0.96087022  2.41501969  0.96057794  2.413217  ]\n",
            "fbest= [100.          79.05017572  28.81630101 ...   0.9591605    0.9591605\n",
            "   0.9591605 ]\n"
          ],
          "name": "stdout"
        },
        {
          "output_type": "display_data",
          "data": {
            "image/png": "[encoded data removed]",
            "text/plain": [
              "<Figure size 432x288 with 1 Axes>"
            ]
          },
          "metadata": {
            "tags": []
          }
        },
        {
          "output_type": "display_data",
          "data": {
            "image/png": "[encoded data removed]",
            "text/plain": [
              "<Figure size 432x288 with 1 Axes>"
            ]
          },
          "metadata": {
            "tags": []
          }
        }
      ]
    },
    {
      "cell_type": "markdown",
      "metadata": {
        "id": "4Xi0s7qOBXMP",
        "colab_type": "text"
      },
      "source": [
        "### Stochastic subgradient descent method"
      ]
    },
    {
      "cell_type": "code",
      "metadata": {
        "id": "pJ1nNTN8AJRZ",
        "colab_type": "code",
        "colab": {}
      },
      "source": [
        "def subdiffsto(w,matrix,col):\n",
        "    (n,m)=X.shape\n",
        "    c = col*np.matmul(np.transpose(w),matrix)\n",
        "    if (1-c)<0:\n",
        "        u=np.zeros(m)\n",
        "    elif (1-c)>0:\n",
        "        u=-col*np.transpose(matrix)\n",
        "    else:\n",
        "        u=-r.randrange(-1,1)*col*np.transpose(matrix)\n",
        "    v =u+0.00000001*w\n",
        "    return v"
      ],
      "execution_count": 0,
      "outputs": []
    },
    {
      "cell_type": "code",
      "metadata": {
        "id": "MHC2k2T5AJRa",
        "colab_type": "code",
        "colab": {}
      },
      "source": [
        "##Stochastic subgradient descent method\n",
        "def storegress(matrix,col):\n",
        "    (n,m)= matrix.shape\n",
        "    w=np.ones(m)\n",
        "    fbest=100*np.ones(100001)\n",
        "    a=np.ones(m)\n",
        "    value=np.ones(100000)\n",
        "    for i in range(100000):\n",
        "        j=r.randint(0,n-1) #choose randomly j in [0,n-1]\n",
        "        v=subdiffsto(w,matrix[j][:],col[j]) #choose a subgradient of |a_j'x-b_j|\n",
        "        w += -1/np.sqrt(i+1)*v #x^{k+1}=x^k-1/(norm(v)*sqrt(i+1))*v\n",
        "        value[i]=fvalue(X,Y,w)#compute f(x^{k+1})\n",
        "        if value[i]<fbest[i]:#store fbest\n",
        "            fbest[i+1]=value[i]\n",
        "            a=-a+w\n",
        "        else:\n",
        "            fbest[i+1]=fbest[i]\n",
        "    return (a, w, value, fbest)\n"
      ],
      "execution_count": 0,
      "outputs": []
    },
    {
      "cell_type": "code",
      "metadata": {
        "id": "mAvrwOCrAJRd",
        "colab_type": "code",
        "colab": {
          "base_uri": "https://localhost:8080/",
          "height": 636
        },
        "outputId": "fdda9731-380f-48f8-85fb-7e9b8e89211f"
      },
      "source": [
        "start = timer()\n",
        "(wstobest,stogdm,value, fbest)=storegress(X,Y)\n",
        "end = timer()\n",
        "print('time=',end - start)\n",
        "#print('x=',x)\n",
        "print('value=',value)\n",
        "print('fbest=',fbest)\n",
        "import matplotlib.pyplot as plt\n",
        "plt.plot(np.log(value))\n",
        "plt.xlabel('iteration ith')\n",
        "plt.ylabel('log(f(x_i))')\n",
        "plt.show()\n",
        "plt.plot(np.log(fbest))\n",
        "plt.xlabel('iteration ith')\n",
        "plt.ylabel('log(fbest_i')\n",
        "plt.show()"
      ],
      "execution_count": 35,
      "outputs": [
        {
          "output_type": "stream",
          "text": [
            "time= 226.68514507199984\n",
            "value= [2.92246125e+04 1.91785665e+04 1.91785664e+04 ... 2.50459505e+01\n",
            " 2.50459505e+01 2.50459505e+01]\n",
            "fbest= [100.         100.         100.         ...   4.73177035   4.73177035\n",
            "   4.73177035]\n"
          ],
          "name": "stdout"
        },
        {
          "output_type": "display_data",
          "data": {
            "image/png": "[encoded data removed]",
            "text/plain": [
              "<Figure size 432x288 with 1 Axes>"
            ]
          },
          "metadata": {
            "tags": []
          }
        },
        {
          "output_type": "display_data",
          "data": {
            "image/png": "[encoded data removed]",
            "text/plain": [
              "<Figure size 432x288 with 1 Axes>"
            ]
          },
          "metadata": {
            "tags": []
          }
        }
      ]
    },
    {
      "cell_type": "markdown",
      "metadata": {
        "id": "2fjq301xBtMi",
        "colab_type": "text"
      },
      "source": [
        "## Model testing"
      ]
    },
    {
      "cell_type": "code",
      "metadata": {
        "id": "PPm0rrujAJRf",
        "colab_type": "code",
        "colab": {
          "base_uri": "https://localhost:8080/",
          "height": 34
        },
        "outputId": "009ce5ce-1bb9-49db-8250-1f4c8d9f8eb3"
      },
      "source": [
        "B=np.transpose(data[1:])[500:-1]\n",
        "(n,m)=B.shape\n",
        "print(B.shape)\n",
        "C=np.transpose(data[0])[500:-1]\n",
        "Test=[[0 for x in range(m+1)] for y in range(n)]\n",
        "Xtest=np.array(Test)\n",
        "for i in range(n):\n",
        "    for j in range(m):\n",
        "        Xtest[i][j]=B[i][j]\n",
        "for i in range(n):\n",
        "    Xtest[i][m]=1\n",
        "#prettyP(Xtest)"
      ],
      "execution_count": 36,
      "outputs": [
        {
          "output_type": "stream",
          "text": [
            "(267, 8)\n"
          ],
          "name": "stdout"
        }
      ]
    },
    {
      "cell_type": "code",
      "metadata": {
        "id": "jIUuOWPBAJRh",
        "colab_type": "code",
        "colab": {
          "base_uri": "https://localhost:8080/",
          "height": 585
        },
        "outputId": "b37429b7-e54d-4d9f-d06e-8d7c65d49c5e"
      },
      "source": [
        "y1=np.matmul(Xtest,gdm)\n",
        "y2=np.matmul(Xtest,wstobest)\n",
        "for i in range(n):\n",
        "    if y1[i]>0:\n",
        "        y1[i]=1\n",
        "    else:\n",
        "        y1[i]=-1\n",
        "for i in range(n):\n",
        "    if y2[i]>0:\n",
        "        y2[i]=1\n",
        "    else:\n",
        "        y2[i]=-1\n",
        "print(y1)\n",
        "print(y2)\n",
        "count1=0\n",
        "for i in range(n):\n",
        "    if y1[i]==C[i]:\n",
        "        count1+=1\n",
        "eff1=count1/n\n",
        "count2=0\n",
        "for i in range(n):\n",
        "    if y2[i]==C[i]:\n",
        "        count2+=1\n",
        "eff2=count2/n\n",
        "print('efficiency1=',eff1)\n",
        "print('efficiency2=',eff2)"
      ],
      "execution_count": 37,
      "outputs": [
        {
          "output_type": "stream",
          "text": [
            "[ 1.  1.  1.  1.  1.  1.  1.  1.  1.  1.  1.  1.  1.  1.  1.  1.  1.  1.\n",
            "  1.  1.  1.  1.  1.  1.  1.  1.  1.  1.  1.  1.  1.  1.  1. -1.  1. -1.\n",
            "  1.  1.  1.  1.  1.  1.  1.  1.  1.  1.  1.  1.  1.  1.  1.  1.  1.  1.\n",
            "  1.  1.  1.  1.  1.  1.  1.  1.  1.  1.  1.  1.  1.  1.  1.  1.  1.  1.\n",
            "  1.  1.  1.  1.  1.  1.  1.  1.  1.  1.  1.  1.  1.  1.  1.  1.  1. -1.\n",
            "  1.  1.  1.  1.  1.  1.  1.  1.  1.  1.  1.  1.  1.  1. -1.  1.  1.  1.\n",
            "  1.  1.  1.  1.  1.  1.  1.  1.  1.  1.  1. -1.  1.  1.  1.  1.  1.  1.\n",
            "  1.  1.  1.  1.  1.  1.  1.  1.  1.  1.  1.  1.  1.  1.  1.  1.  1. -1.\n",
            "  1.  1.  1.  1.  1.  1.  1.  1.  1.  1.  1.  1.  1.  1.  1.  1.  1.  1.\n",
            "  1.  1.  1.  1.  1.  1.  1.  1.  1.  1.  1.  1.  1.  1.  1.  1.  1.  1.\n",
            "  1.  1.  1.  1.  1.  1.  1.  1.  1.  1.  1.  1.  1.  1.  1.  1.  1. -1.\n",
            "  1.  1.  1.  1.  1. -1.  1.  1.  1.  1.  1.  1.  1.  1.  1.  1.  1.  1.\n",
            "  1.  1.  1.  1.  1.  1.  1.  1.  1.  1.  1.  1.  1.  1.  1.  1.  1.  1.\n",
            "  1.  1.  1.  1.  1.  1.  1.  1.  1.  1.  1.  1.  1.  1.  1.  1.  1.  1.\n",
            "  1.  1.  1.  1.  1.  1.  1.  1.  1.  1.  1.  1.  1.  1.  1.]\n",
            "[ 1.  1.  1.  1.  1.  1.  1.  1.  1.  1.  1.  1.  1. -1.  1.  1.  1.  1.\n",
            "  1.  1.  1.  1.  1.  1.  1.  1.  1.  1.  1.  1.  1. -1.  1.  1.  1.  1.\n",
            "  1.  1.  1.  1.  1.  1.  1.  1.  1.  1.  1.  1.  1. -1. -1.  1.  1.  1.\n",
            "  1.  1.  1.  1.  1.  1.  1.  1.  1.  1. -1.  1.  1.  1.  1.  1.  1. -1.\n",
            "  1.  1.  1.  1.  1. -1.  1.  1. -1.  1.  1.  1.  1.  1.  1.  1.  1.  1.\n",
            "  1.  1.  1.  1.  1.  1.  1.  1.  1.  1. -1.  1.  1.  1.  1.  1.  1.  1.\n",
            "  1.  1.  1.  1.  1. -1.  1.  1. -1.  1.  1.  1.  1. -1.  1.  1. -1.  1.\n",
            " -1. -1.  1. -1.  1.  1.  1.  1.  1.  1.  1.  1.  1.  1.  1.  1.  1.  1.\n",
            "  1.  1.  1.  1.  1.  1.  1.  1.  1.  1.  1.  1.  1.  1.  1.  1.  1.  1.\n",
            "  1.  1.  1.  1.  1.  1.  1.  1.  1.  1.  1.  1.  1.  1.  1.  1.  1.  1.\n",
            "  1.  1.  1. -1.  1.  1.  1.  1.  1.  1.  1.  1.  1.  1.  1.  1.  1.  1.\n",
            "  1.  1.  1.  1.  1.  1.  1. -1.  1.  1.  1.  1.  1.  1.  1.  1.  1.  1.\n",
            "  1.  1.  1.  1.  1.  1.  1.  1.  1.  1.  1. -1. -1.  1.  1. -1.  1.  1.\n",
            "  1.  1.  1.  1.  1.  1.  1.  1.  1.  1.  1.  1. -1.  1.  1.  1. -1.  1.\n",
            "  1.  1.  1.  1.  1.  1. -1.  1.  1.  1.  1.  1.  1.  1.  1.]\n",
            "efficiency1= 0.6704119850187266\n",
            "efficiency2= 0.6329588014981273\n"
          ],
          "name": "stdout"
        }
      ]
    },
    {
      "cell_type": "code",
      "metadata": {
        "id": "4zDhP79uAJRj",
        "colab_type": "code",
        "colab": {}
      },
      "source": [
        ""
      ],
      "execution_count": 0,
      "outputs": []
    }
  ]
}