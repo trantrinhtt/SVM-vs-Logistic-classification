{
  "nbformat": 4,
  "nbformat_minor": 0,
  "metadata": {
    "kernelspec": {
      "name": "python3",
      "display_name": "Python 3"
    },
    "language_info": {
      "codemirror_mode": {
        "name": "ipython",
        "version": 3
      },
      "file_extension": ".py",
      "mimetype": "text/x-python",
      "name": "python",
      "nbconvert_exporter": "python",
      "pygments_lexer": "ipython3",
      "version": "3.7.1"
    },
    "colab": {
      "name": "2a_Heart_Data _logistic.ipynb",
      "version": "0.3.2",
      "provenance": []
    },
    "accelerator": "GPU"
  },
  "cells": [
    {
      "cell_type": "markdown",
      "metadata": {
        "id": "kMPfqeFknjA5",
        "colab_type": "text"
      },
      "source": [
        "## Logistic regression"
      ]
    },
    {
      "cell_type": "markdown",
      "metadata": {
        "id": "HcUB5JVcnjA8",
        "colab_type": "text"
      },
      "source": [
        "In this part, we consider the support vector machine problem:\n",
        "\\begin{equation}\n",
        "\\min_{w\\in\\mathbb{R}^m}\\varphi(w):=\\frac{\\lambda}{2}\\Vert w\\Vert^2+\\frac{1}{n}\\sum_{i=1}^n \\log(1+\\exp(1-y_iw^Tx_i)) \\quad\\text{ with } \\lambda=0.00001\n",
        "\\end{equation}"
      ]
    },
    {
      "cell_type": "code",
      "metadata": {
        "id": "lcoYR-3TnjA-",
        "colab_type": "code",
        "colab": {
          "base_uri": "https://localhost:8080/",
          "height": 34
        },
        "outputId": "1638ae6d-7882-4084-dea3-90960ce39fc9"
      },
      "source": [
        "from google.colab import drive\n",
        "drive.mount('/content/drive')\n",
        "import numpy as np\n",
        "import random as r\n",
        "from timeit import default_timer as timer"
      ],
      "execution_count": 6,
      "outputs": [
        {
          "output_type": "stream",
          "text": [
            "Drive already mounted at /content/drive; to attempt to forcibly remount, call drive.mount(\"/content/drive\", force_remount=True).\n"
          ],
          "name": "stdout"
        }
      ]
    },
    {
      "cell_type": "code",
      "metadata": {
        "id": "R26HcFrGnjBE",
        "colab_type": "code",
        "colab": {
          "base_uri": "https://localhost:8080/",
          "height": 235
        },
        "outputId": "ab8e8fdc-3ab5-496f-c348-cd2e317af232"
      },
      "source": [
        "import pandas as pd\n",
        "data= pd.read_csv('/content/drive/My Drive/Colab Notebooks/nt_toolbox/data/heart.dat',sep=\" \", header=None)\n",
        "print(data.shape)\n",
        "nameData = data.copy()\n",
        "nameData.columns = ['Age', 'Sex','ChestPainType','RestBloodPressure','SerumCholestoral','FastingBloodSugar',\n",
        "                   'RestingElectrocardResult','MaxHeartRate','ExerciseInducedAngina',\n",
        "                   'Oldpeak','SlopePeak','NumMajorVessels', 'thalCode','HeartDisease']\n",
        "nameData.head() # Preview Data"
      ],
      "execution_count": 7,
      "outputs": [
        {
          "output_type": "stream",
          "text": [
            "(270, 14)\n"
          ],
          "name": "stdout"
        },
        {
          "output_type": "execute_result",
          "data": {
            "text/html": [
              "<div>\n",
              "<style scoped>\n",
              "    .dataframe tbody tr th:only-of-type {\n",
              "        vertical-align: middle;\n",
              "    }\n",
              "\n",
              "    .dataframe tbody tr th {\n",
              "        vertical-align: top;\n",
              "    }\n",
              "\n",
              "    .dataframe thead th {\n",
              "        text-align: right;\n",
              "    }\n",
              "</style>\n",
              "<table border=\"1\" class=\"dataframe\">\n",
              "  <thead>\n",
              "    <tr style=\"text-align: right;\">\n",
              "      <th></th>\n",
              "      <th>Age</th>\n",
              "      <th>Sex</th>\n",
              "      <th>ChestPainType</th>\n",
              "      <th>RestBloodPressure</th>\n",
              "      <th>SerumCholestoral</th>\n",
              "      <th>FastingBloodSugar</th>\n",
              "      <th>RestingElectrocardResult</th>\n",
              "      <th>MaxHeartRate</th>\n",
              "      <th>ExerciseInducedAngina</th>\n",
              "      <th>Oldpeak</th>\n",
              "      <th>SlopePeak</th>\n",
              "      <th>NumMajorVessels</th>\n",
              "      <th>thalCode</th>\n",
              "      <th>HeartDisease</th>\n",
              "    </tr>\n",
              "  </thead>\n",
              "  <tbody>\n",
              "    <tr>\n",
              "      <th>0</th>\n",
              "      <td>70.0</td>\n",
              "      <td>1.0</td>\n",
              "      <td>4.0</td>\n",
              "      <td>130.0</td>\n",
              "      <td>322.0</td>\n",
              "      <td>0.0</td>\n",
              "      <td>2.0</td>\n",
              "      <td>109.0</td>\n",
              "      <td>0.0</td>\n",
              "      <td>2.4</td>\n",
              "      <td>2.0</td>\n",
              "      <td>3.0</td>\n",
              "      <td>3.0</td>\n",
              "      <td>2</td>\n",
              "    </tr>\n",
              "    <tr>\n",
              "      <th>1</th>\n",
              "      <td>67.0</td>\n",
              "      <td>0.0</td>\n",
              "      <td>3.0</td>\n",
              "      <td>115.0</td>\n",
              "      <td>564.0</td>\n",
              "      <td>0.0</td>\n",
              "      <td>2.0</td>\n",
              "      <td>160.0</td>\n",
              "      <td>0.0</td>\n",
              "      <td>1.6</td>\n",
              "      <td>2.0</td>\n",
              "      <td>0.0</td>\n",
              "      <td>7.0</td>\n",
              "      <td>1</td>\n",
              "    </tr>\n",
              "    <tr>\n",
              "      <th>2</th>\n",
              "      <td>57.0</td>\n",
              "      <td>1.0</td>\n",
              "      <td>2.0</td>\n",
              "      <td>124.0</td>\n",
              "      <td>261.0</td>\n",
              "      <td>0.0</td>\n",
              "      <td>0.0</td>\n",
              "      <td>141.0</td>\n",
              "      <td>0.0</td>\n",
              "      <td>0.3</td>\n",
              "      <td>1.0</td>\n",
              "      <td>0.0</td>\n",
              "      <td>7.0</td>\n",
              "      <td>2</td>\n",
              "    </tr>\n",
              "    <tr>\n",
              "      <th>3</th>\n",
              "      <td>64.0</td>\n",
              "      <td>1.0</td>\n",
              "      <td>4.0</td>\n",
              "      <td>128.0</td>\n",
              "      <td>263.0</td>\n",
              "      <td>0.0</td>\n",
              "      <td>0.0</td>\n",
              "      <td>105.0</td>\n",
              "      <td>1.0</td>\n",
              "      <td>0.2</td>\n",
              "      <td>2.0</td>\n",
              "      <td>1.0</td>\n",
              "      <td>7.0</td>\n",
              "      <td>1</td>\n",
              "    </tr>\n",
              "    <tr>\n",
              "      <th>4</th>\n",
              "      <td>74.0</td>\n",
              "      <td>0.0</td>\n",
              "      <td>2.0</td>\n",
              "      <td>120.0</td>\n",
              "      <td>269.0</td>\n",
              "      <td>0.0</td>\n",
              "      <td>2.0</td>\n",
              "      <td>121.0</td>\n",
              "      <td>1.0</td>\n",
              "      <td>0.2</td>\n",
              "      <td>1.0</td>\n",
              "      <td>1.0</td>\n",
              "      <td>3.0</td>\n",
              "      <td>1</td>\n",
              "    </tr>\n",
              "  </tbody>\n",
              "</table>\n",
              "</div>"
            ],
            "text/plain": [
              "    Age  Sex  ChestPainType  ...  NumMajorVessels  thalCode  HeartDisease\n",
              "0  70.0  1.0            4.0  ...              3.0       3.0             2\n",
              "1  67.0  0.0            3.0  ...              0.0       7.0             1\n",
              "2  57.0  1.0            2.0  ...              0.0       7.0             2\n",
              "3  64.0  1.0            4.0  ...              1.0       7.0             1\n",
              "4  74.0  0.0            2.0  ...              1.0       3.0             1\n",
              "\n",
              "[5 rows x 14 columns]"
            ]
          },
          "metadata": {
            "tags": []
          },
          "execution_count": 7
        }
      ]
    },
    {
      "cell_type": "code",
      "metadata": {
        "scrolled": true,
        "id": "jXhyMgBgnjBI",
        "colab_type": "code",
        "colab": {}
      },
      "source": [
        "heart = '/content/drive/My Drive/Colab Notebooks/nt_toolbox/data/heart.dat'\n",
        "data=np.loadtxt(heart, unpack=True)"
      ],
      "execution_count": 0,
      "outputs": []
    },
    {
      "cell_type": "markdown",
      "metadata": {
        "id": "6H9sl4u6n9Tw",
        "colab_type": "text"
      },
      "source": [
        "## Model training"
      ]
    },
    {
      "cell_type": "code",
      "metadata": {
        "id": "3ecAgmxRnjBM",
        "colab_type": "code",
        "colab": {}
      },
      "source": [
        "A=np.transpose(data[0:-1])[0:220]\n",
        "(n,m)=A.shape\n",
        "Y=np.transpose(2*(data[-1][0:220]-1.5*np.ones(n)))\n",
        "T=[[0 for x in range(m+1)] for y in range(n)]\n",
        "X=np.array(T)\n",
        "for i in range(n):\n",
        "    for j in range(m):\n",
        "        X[i][j]=A[i][j]\n",
        "for i in range(n):\n",
        "    X[i][m]=1"
      ],
      "execution_count": 0,
      "outputs": []
    },
    {
      "cell_type": "markdown",
      "metadata": {
        "id": "j01i91XQpBmP",
        "colab_type": "text"
      },
      "source": [
        "### Subgradient descent method"
      ]
    },
    {
      "cell_type": "code",
      "metadata": {
        "id": "03kr-irDnjBQ",
        "colab_type": "code",
        "colab": {}
      },
      "source": [
        "def subdiff(w,matrix,col):\n",
        "    (n,m)= matrix.shape\n",
        "    u=[1 for i in range (m)]\n",
        "    v=0.0000001*w\n",
        "    for i in range(n):\n",
        "        v+= -1/n*col[i]*np.transpose(matrix[i][:])/(1+np.exp(col[i]*np.matmul(np.transpose(w),matrix[i][:])))\n",
        "    return v"
      ],
      "execution_count": 0,
      "outputs": []
    },
    {
      "cell_type": "code",
      "metadata": {
        "id": "yMN7Hs4fnjBU",
        "colab_type": "code",
        "colab": {}
      },
      "source": [
        "def fvalue(matrix,col,w):\n",
        "    (n,m)=matrix.shape\n",
        "    v=0.0000001/2*np.linalg.norm(w,ord=2)**2\n",
        "    for i in range(n):\n",
        "        v += 1/n*np.log(1+np.exp(-col[i]*np.matmul(np.transpose(w),matrix[i][:])))\n",
        "    return v"
      ],
      "execution_count": 0,
      "outputs": []
    },
    {
      "cell_type": "code",
      "metadata": {
        "id": "UVmBJBm4njBY",
        "colab_type": "code",
        "colab": {}
      },
      "source": [
        "## Subgradient descent method\n",
        "def regress(matrix,col):\n",
        "    (n,m)= matrix.shape\n",
        "    w = np.ones(m)\n",
        "    fbest=100*np.ones(10001)\n",
        "    value=np.ones(10000)\n",
        "    for i in range(10000):\n",
        "        v=subdiff(w,matrix,col) #choose a subgradient\n",
        "        w += -1/np.sqrt(i+1)*v# x^{k+1}=x^k-f(x^k)/(norm(v)^2)*v\n",
        "        value[i]=fvalue(X,Y,w) #compute f(x^{k+1})\n",
        "        if value[i]<fbest[i]:#store fbest\n",
        "            fbest[i+1]=value[i]\n",
        "        else:\n",
        "            fbest[i+1]=fbest[i]\n",
        "    return (w, value, fbest)\n"
      ],
      "execution_count": 0,
      "outputs": []
    },
    {
      "cell_type": "code",
      "metadata": {
        "id": "_rFAAG_2njBc",
        "colab_type": "code",
        "colab": {
          "base_uri": "https://localhost:8080/",
          "height": 707
        },
        "outputId": "29d0383e-3cda-4efa-b11a-59e0b3bf76ec"
      },
      "source": [
        "start = timer()\n",
        "(gdm,value, fbest)=regress(X,Y)\n",
        "end = timer()\n",
        "print('time=',end - start)\n",
        "#print('x=',x)\n",
        "print('value=',value)\n",
        "print('fbest=',fbest)\n",
        "import matplotlib.pyplot as plt\n",
        "plt.plot(np.log(value))\n",
        "plt.xlabel('iteration ith')\n",
        "plt.ylabel('log(f(x_i))')\n",
        "plt.show()\n",
        "plt.plot(np.log(fbest))\n",
        "plt.xlabel('iteration ith')\n",
        "plt.ylabel('log(fbest_i)')\n",
        "plt.show()"
      ],
      "execution_count": 13,
      "outputs": [
        {
          "output_type": "stream",
          "text": [
            "/usr/local/lib/python3.6/dist-packages/ipykernel_launcher.py:6: RuntimeWarning: overflow encountered in exp\n",
            "  \n",
            "/usr/local/lib/python3.6/dist-packages/ipykernel_launcher.py:5: RuntimeWarning: overflow encountered in exp\n",
            "  \"\"\"\n"
          ],
          "name": "stderr"
        },
        {
          "output_type": "stream",
          "text": [
            "time= 37.329331132000334\n",
            "value= [        inf         inf         inf ... 13.19999731 13.19884142\n",
            " 13.1976858 ]\n",
            "fbest= [100.         100.         100.         ...  13.19999731  13.19884142\n",
            "  13.1976858 ]\n"
          ],
          "name": "stdout"
        },
        {
          "output_type": "display_data",
          "data": {
            "image/png": "[encoded data removed]",
            "text/plain": [
              "<Figure size 432x288 with 1 Axes>"
            ]
          },
          "metadata": {
            "tags": []
          }
        },
        {
          "output_type": "display_data",
          "data": {
            "image/png": "[encoded data removed]",
            "text/plain": [
              "<Figure size 432x288 with 1 Axes>"
            ]
          },
          "metadata": {
            "tags": []
          }
        }
      ]
    },
    {
      "cell_type": "markdown",
      "metadata": {
        "id": "Xf3sKlP7pF_d",
        "colab_type": "text"
      },
      "source": [
        "### Stochastic subgradient descent method"
      ]
    },
    {
      "cell_type": "code",
      "metadata": {
        "id": "67DETrHgnjBi",
        "colab_type": "code",
        "colab": {}
      },
      "source": [
        "def subdiffsto(w,matrix,col):\n",
        "    (n,m)= X.shape\n",
        "    v=0.0000001*w-col*np.transpose(matrix)/(1+np.exp(col*np.matmul(np.transpose(w),np.transpose(matrix))))\n",
        "    return v"
      ],
      "execution_count": 0,
      "outputs": []
    },
    {
      "cell_type": "code",
      "metadata": {
        "id": "nNWChYM7njBk",
        "colab_type": "code",
        "colab": {}
      },
      "source": [
        "##Stochastic subgradient descent method\n",
        "def storegress(matrix,col):\n",
        "    (n,m)= matrix.shape\n",
        "    w = np.ones(m)\n",
        "    fbest=100*np.ones(100001)\n",
        "    a=np.ones(m)\n",
        "    value=np.ones(100000)\n",
        "    for i in range(100000):\n",
        "        j=r.randint(0,n-1) #choose randomly j in [0,n-1]\n",
        "        v=subdiffsto(w,matrix[j][:],col[j]) #choose a subgradient of |a_j'x-b_j|\n",
        "        w += -1/np.sqrt(i+1)*v #x^{k+1}=x^k-1/(norm(v)*sqrt(i+1))*v\n",
        "        value[i]=fvalue(X,Y,w) #compute f(x^{k+1})\n",
        "        if value[i]<fbest[i]:#store fbest\n",
        "            fbest[i+1]=value[i]\n",
        "            a+=-a+w\n",
        "        else:\n",
        "            fbest[i+1]=fbest[i]\n",
        "    return (a, w, value, fbest)\n"
      ],
      "execution_count": 0,
      "outputs": []
    },
    {
      "cell_type": "code",
      "metadata": {
        "id": "J_dZY6JTnjBm",
        "colab_type": "code",
        "colab": {
          "base_uri": "https://localhost:8080/",
          "height": 672
        },
        "outputId": "2ed3b750-2704-4592-a86f-249b0901e53f"
      },
      "source": [
        "start = timer()\n",
        "(wstobest,stogdm,value, fbest)=storegress(X,Y)\n",
        "end = timer()\n",
        "print('time=',end - start)\n",
        "#print('x=',x)\n",
        "print('value=',value[99999])\n",
        "print('fbest=',fbest[100000])\n",
        "import matplotlib.pyplot as plt\n",
        "plt.plot(np.log(value))\n",
        "plt.xlabel('iteration ith')\n",
        "plt.ylabel('log(f(x_i))')\n",
        "plt.show()\n",
        "plt.plot(np.log(fbest))\n",
        "plt.xlabel('iteration ith')\n",
        "plt.ylabel('log(fbest_i)')\n",
        "plt.show()"
      ],
      "execution_count": 16,
      "outputs": [
        {
          "output_type": "stream",
          "text": [
            "/usr/local/lib/python3.6/dist-packages/ipykernel_launcher.py:5: RuntimeWarning: overflow encountered in exp\n",
            "  \"\"\"\n",
            "/usr/local/lib/python3.6/dist-packages/ipykernel_launcher.py:3: RuntimeWarning: overflow encountered in exp\n",
            "  This is separate from the ipykernel package so we can avoid doing imports until\n"
          ],
          "name": "stderr"
        },
        {
          "output_type": "stream",
          "text": [
            "time= 143.574460629\n",
            "value= 61.205854303074766\n",
            "fbest= 20.35395447354517\n"
          ],
          "name": "stdout"
        },
        {
          "output_type": "display_data",
          "data": {
            "image/png": "[encoded data removed]",
            "text/plain": [
              "<Figure size 432x288 with 1 Axes>"
            ]
          },
          "metadata": {
            "tags": []
          }
        },
        {
          "output_type": "display_data",
          "data": {
            "image/png": "[encoded data removed]",
            "text/plain": [
              "<Figure size 432x288 with 1 Axes>"
            ]
          },
          "metadata": {
            "tags": []
          }
        }
      ]
    },
    {
      "cell_type": "markdown",
      "metadata": {
        "id": "6jKKH6sCpKz5",
        "colab_type": "text"
      },
      "source": [
        "## Model testing"
      ]
    },
    {
      "cell_type": "code",
      "metadata": {
        "id": "kZOCxRNQnjBo",
        "colab_type": "code",
        "colab": {
          "base_uri": "https://localhost:8080/",
          "height": 34
        },
        "outputId": "4a6bb7b2-df76-498c-8c61-1c674710338a"
      },
      "source": [
        "B=np.transpose(data[0:-1])[220:270]\n",
        "(n,m)=B.shape\n",
        "print(B.shape)\n",
        "C=np.transpose(data[-1])[220:270]\n",
        "Test=[[0 for x in range(m+1)] for y in range(n)]\n",
        "Xtest=np.array(Test)\n",
        "for i in range(n):\n",
        "    for j in range(m):\n",
        "        Xtest[i][j]=B[i][j]\n",
        "for i in range(n):\n",
        "    Xtest[i][m]=1\n",
        "#prettyP(Xtest)"
      ],
      "execution_count": 17,
      "outputs": [
        {
          "output_type": "stream",
          "text": [
            "(50, 13)\n"
          ],
          "name": "stdout"
        }
      ]
    },
    {
      "cell_type": "code",
      "metadata": {
        "id": "xaq7WH-VnjBq",
        "colab_type": "code",
        "colab": {
          "base_uri": "https://localhost:8080/",
          "height": 158
        },
        "outputId": "3d7668c8-c70a-4463-d0d1-9c9c53275fe5"
      },
      "source": [
        "y1=np.matmul(Xtest,gdm)\n",
        "y2=np.matmul(Xtest,stogdm)\n",
        "for i in range(n):\n",
        "    if y1[i]>0:\n",
        "        y1[i]=2\n",
        "    else:\n",
        "        y1[i]=1\n",
        "for i in range(n):\n",
        "    if y2[i]>0:\n",
        "        y2[i]=2\n",
        "    else:\n",
        "        y2[i]=1\n",
        "print(y1)\n",
        "print(y2)\n",
        "count1=0\n",
        "for i in range(n):\n",
        "    if y1[i]==C[i]:\n",
        "        count1+=1\n",
        "eff1=count1/n\n",
        "count2=0\n",
        "for i in range(n):\n",
        "    if y2[i]==C[i]:\n",
        "        count2+=1\n",
        "eff2=count2/n\n",
        "print('efficiency1=',eff1)\n",
        "print('efficiency2=',eff2)"
      ],
      "execution_count": 18,
      "outputs": [
        {
          "output_type": "stream",
          "text": [
            "[2. 2. 1. 2. 1. 2. 2. 2. 1. 1. 2. 2. 1. 2. 2. 2. 1. 2. 1. 1. 2. 1. 1. 1.\n",
            " 1. 2. 2. 1. 1. 2. 2. 1. 1. 1. 1. 1. 1. 2. 1. 1. 1. 2. 1. 1. 2. 2. 1. 1.\n",
            " 2. 2.]\n",
            "[2. 2. 1. 2. 1. 1. 2. 2. 1. 1. 1. 1. 1. 1. 1. 2. 1. 2. 1. 1. 1. 1. 1. 1.\n",
            " 1. 1. 1. 1. 1. 2. 2. 1. 1. 1. 1. 1. 1. 1. 1. 1. 1. 2. 1. 1. 1. 1. 1. 1.\n",
            " 1. 1.]\n",
            "efficiency1= 0.82\n",
            "efficiency2= 0.72\n"
          ],
          "name": "stdout"
        }
      ]
    },
    {
      "cell_type": "markdown",
      "metadata": {
        "collapsed": true,
        "id": "tSyvhKnPnjBs",
        "colab_type": "text"
      },
      "source": [
        "Comparing the results, we conclude that logistic regression and svm perform similarly in this problem."
      ]
    },
    {
      "cell_type": "code",
      "metadata": {
        "id": "joMhktGynjBs",
        "colab_type": "code",
        "colab": {}
      },
      "source": [
        ""
      ],
      "execution_count": 0,
      "outputs": []
    }
  ]
}